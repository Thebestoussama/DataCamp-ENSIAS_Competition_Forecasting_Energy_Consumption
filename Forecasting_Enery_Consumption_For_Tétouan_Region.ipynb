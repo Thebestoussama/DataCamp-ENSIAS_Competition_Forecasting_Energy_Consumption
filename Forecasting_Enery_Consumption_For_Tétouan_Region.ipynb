{
 "cells": [
  {
   "cell_type": "code",
   "execution_count": 2,
   "metadata": {
    "_cell_guid": "b1076dfc-b9ad-4769-8c92-a6c4dae69d19",
    "_uuid": "8f2839f25d086af736a60e9eeb907d3b93b6e0e5",
    "execution": {
     "iopub.execute_input": "2023-02-16T11:44:03.812058Z",
     "iopub.status.busy": "2023-02-16T11:44:03.811350Z",
     "iopub.status.idle": "2023-02-16T11:44:04.510830Z",
     "shell.execute_reply": "2023-02-16T11:44:04.509743Z",
     "shell.execute_reply.started": "2023-02-16T11:44:03.811988Z"
    }
   },
   "outputs": [],
   "source": [
    "import pandas as pd                                        #Data processing, CSV files I/O (e.g. pd.read_csv)\n",
    "import numpy as np                                         #Linear Algebra: Matrices ...\n",
    "import matplotlib.pyplot as plt                            #Data Visualisation\n",
    "import seaborn as sns                                      #Data visualisation: Factorplots, barplot \n",
    "from sklearn.model_selection import train_test_split\n",
    "import xgboost as xgb\n",
    "from sklearn.metrics import mean_squared_error\n",
    "from sklearn.ensemble import RandomForestRegressor"
   ]
  },
  {
   "cell_type": "code",
   "execution_count": 5,
   "metadata": {
    "execution": {
     "iopub.execute_input": "2023-02-16T11:44:04.516755Z",
     "iopub.status.busy": "2023-02-16T11:44:04.516384Z",
     "iopub.status.idle": "2023-02-16T11:44:04.528679Z",
     "shell.execute_reply": "2023-02-16T11:44:04.527470Z",
     "shell.execute_reply.started": "2023-02-16T11:44:04.516722Z"
    }
   },
   "outputs": [],
   "source": [
    "#To check whether an attribute is a categorical one or not\n",
    "def is_categorical(array_like):\n",
    "    return array_like.dtype.name == 'object'\n",
    "\n",
    "def load_and_see():\n",
    "    pd.options.display.max_rows = 6\n",
    "    pd.set_option(\"expand_frame_repr\", True)\n",
    "    #df = pd.read_csv(\"../input/house-prices-advanced-regression-techniques/train.csv\")\n",
    "    #df.dropna(subset=['SalePrice'],inplace=True)\n",
    "    ##test = pd.read_csv(\"../input/house-prices-advanced-regression-techniques/test.csv\")\n",
    "    #X_train,X_test,y_train,y_test = train_test_split(df.drop(['SalePrice'],axis=1),df['SalePrice'], random_state=42,test_size=0.2)\n",
    "    #train = pd.concat([X_train,y_train],  axis = 1)\n",
    "    #test = pd.concat([X_test,y_test],axis = 1)\n",
    "    train = pd.read_csv(\"train_data.csv\")\n",
    "    test = pd.read_csv(\"test_data.csv\")\n",
    "    print(\"================== (TRAINING DATA) ======================================\\n\")\n",
    "    display(train)\n",
    "    print(\"================== (TEST DATA) ==========================================\\n\")\n",
    "    display(test)\n",
    "    pd.reset_option(\"display.max_rows\")\n",
    "    print(\"===============INFO (TRAINING DATA) =====================================\\n\")\n",
    "    print(train.info())\n",
    "    print(\"===============INFO (TEST DATA) =========================================\\n\")\n",
    "    print(test.info())\n",
    "    print(\"===============% OF NA PER ATTRIBUTE SORTED (TRAINING DATA) =============\\n\")\n",
    "    p_train = (train.isna().sum()/len(train)*100).sort_values(ascending=False)\n",
    "    print( p_train[:20])\n",
    "    print(\"===============% OF NA PER ATTRIBUTE SORTED (TEST DATA) =================\\n\")\n",
    "    p_test = (test.isna().sum()/len(test)*100).sort_values(ascending=False)\n",
    "    print(p_test[:20])\n",
    "    #print(\"===============%  (TRAINING DATA) =================\\n\")\n",
    "    fig = plt.figure(figsize=(20,10))\n",
    "    plt.title(\"TRAINING DATA\")\n",
    "    sns.heatmap(train.isnull(),yticklabels = False, cbar=False)\n",
    "    plt.show()\n",
    "    print(\"===============%  (TEST DATA) =================\\n\")\n",
    "    fig = plt.figure(figsize=(20,10))\n",
    "    plt.title(\"TEST DATA\")\n",
    "    sns.heatmap(test.isnull(),yticklabels = False, cbar=False)\n",
    "      \n",
    "    \n",
    "    return train,test"
   ]
  },
  {
   "cell_type": "code",
   "execution_count": 6,
   "metadata": {
    "execution": {
     "iopub.execute_input": "2023-02-16T11:44:04.531154Z",
     "iopub.status.busy": "2023-02-16T11:44:04.530430Z",
     "iopub.status.idle": "2023-02-16T11:44:05.577156Z",
     "shell.execute_reply": "2023-02-16T11:44:05.576041Z",
     "shell.execute_reply.started": "2023-02-16T11:44:04.531106Z"
    }
   },
   "outputs": [
    {
     "name": "stdout",
     "output_type": "stream",
     "text": [
      "================== (TRAINING DATA) ======================================\n",
      "\n"
     ]
    },
    {
     "data": {
      "text/html": [
       "<div>\n",
       "<style scoped>\n",
       "    .dataframe tbody tr th:only-of-type {\n",
       "        vertical-align: middle;\n",
       "    }\n",
       "\n",
       "    .dataframe tbody tr th {\n",
       "        vertical-align: top;\n",
       "    }\n",
       "\n",
       "    .dataframe thead th {\n",
       "        text-align: right;\n",
       "    }\n",
       "</style>\n",
       "<table border=\"1\" class=\"dataframe\">\n",
       "  <thead>\n",
       "    <tr style=\"text-align: right;\">\n",
       "      <th></th>\n",
       "      <th>Datetime</th>\n",
       "      <th>Temperature</th>\n",
       "      <th>Humidity</th>\n",
       "      <th>WindSpeed</th>\n",
       "      <th>GeneralDiffuseFlows</th>\n",
       "      <th>DiffuseFlows</th>\n",
       "      <th>PowerConsumption_Zone1</th>\n",
       "      <th>PowerConsumption_Zone2</th>\n",
       "      <th>PowerConsumption_Zone3</th>\n",
       "    </tr>\n",
       "  </thead>\n",
       "  <tbody>\n",
       "    <tr>\n",
       "      <th>0</th>\n",
       "      <td>10/12/2017 8:20</td>\n",
       "      <td>17.32</td>\n",
       "      <td>80.50</td>\n",
       "      <td>0.086</td>\n",
       "      <td>147.700</td>\n",
       "      <td>28.220</td>\n",
       "      <td>30741.00656</td>\n",
       "      <td>19258.50622</td>\n",
       "      <td>10632.94833</td>\n",
       "    </tr>\n",
       "    <tr>\n",
       "      <th>1</th>\n",
       "      <td>11/2/2017 2:00</td>\n",
       "      <td>19.59</td>\n",
       "      <td>49.23</td>\n",
       "      <td>0.083</td>\n",
       "      <td>0.095</td>\n",
       "      <td>0.078</td>\n",
       "      <td>23366.15385</td>\n",
       "      <td>18457.43802</td>\n",
       "      <td>10768.19277</td>\n",
       "    </tr>\n",
       "    <tr>\n",
       "      <th>2</th>\n",
       "      <td>6/28/2017 16:00</td>\n",
       "      <td>27.72</td>\n",
       "      <td>50.17</td>\n",
       "      <td>4.917</td>\n",
       "      <td>689.700</td>\n",
       "      <td>99.700</td>\n",
       "      <td>33797.08609</td>\n",
       "      <td>21805.82121</td>\n",
       "      <td>22573.29231</td>\n",
       "    </tr>\n",
       "    <tr>\n",
       "      <th>...</th>\n",
       "      <td>...</td>\n",
       "      <td>...</td>\n",
       "      <td>...</td>\n",
       "      <td>...</td>\n",
       "      <td>...</td>\n",
       "      <td>...</td>\n",
       "      <td>...</td>\n",
       "      <td>...</td>\n",
       "      <td>...</td>\n",
       "    </tr>\n",
       "    <tr>\n",
       "      <th>41929</th>\n",
       "      <td>4/4/2017 3:20</td>\n",
       "      <td>15.04</td>\n",
       "      <td>83.40</td>\n",
       "      <td>0.070</td>\n",
       "      <td>0.029</td>\n",
       "      <td>0.130</td>\n",
       "      <td>23560.81808</td>\n",
       "      <td>12827.29124</td>\n",
       "      <td>15162.18182</td>\n",
       "    </tr>\n",
       "    <tr>\n",
       "      <th>41930</th>\n",
       "      <td>5/20/2017 14:30</td>\n",
       "      <td>21.93</td>\n",
       "      <td>64.65</td>\n",
       "      <td>0.069</td>\n",
       "      <td>875.000</td>\n",
       "      <td>104.800</td>\n",
       "      <td>34169.70492</td>\n",
       "      <td>20266.25387</td>\n",
       "      <td>18288.58300</td>\n",
       "    </tr>\n",
       "    <tr>\n",
       "      <th>41931</th>\n",
       "      <td>10/27/2017 5:50</td>\n",
       "      <td>17.72</td>\n",
       "      <td>70.30</td>\n",
       "      <td>0.082</td>\n",
       "      <td>0.062</td>\n",
       "      <td>0.107</td>\n",
       "      <td>21023.36980</td>\n",
       "      <td>20315.35270</td>\n",
       "      <td>11601.70213</td>\n",
       "    </tr>\n",
       "  </tbody>\n",
       "</table>\n",
       "<p>41932 rows × 9 columns</p>\n",
       "</div>"
      ],
      "text/plain": [
       "              Datetime  Temperature  Humidity  WindSpeed  GeneralDiffuseFlows  \\\n",
       "0      10/12/2017 8:20        17.32     80.50      0.086              147.700   \n",
       "1       11/2/2017 2:00        19.59     49.23      0.083                0.095   \n",
       "2      6/28/2017 16:00        27.72     50.17      4.917              689.700   \n",
       "...                ...          ...       ...        ...                  ...   \n",
       "41929    4/4/2017 3:20        15.04     83.40      0.070                0.029   \n",
       "41930  5/20/2017 14:30        21.93     64.65      0.069              875.000   \n",
       "41931  10/27/2017 5:50        17.72     70.30      0.082                0.062   \n",
       "\n",
       "       DiffuseFlows  PowerConsumption_Zone1  PowerConsumption_Zone2  \\\n",
       "0            28.220             30741.00656             19258.50622   \n",
       "1             0.078             23366.15385             18457.43802   \n",
       "2            99.700             33797.08609             21805.82121   \n",
       "...             ...                     ...                     ...   \n",
       "41929         0.130             23560.81808             12827.29124   \n",
       "41930       104.800             34169.70492             20266.25387   \n",
       "41931         0.107             21023.36980             20315.35270   \n",
       "\n",
       "       PowerConsumption_Zone3  \n",
       "0                 10632.94833  \n",
       "1                 10768.19277  \n",
       "2                 22573.29231  \n",
       "...                       ...  \n",
       "41929             15162.18182  \n",
       "41930             18288.58300  \n",
       "41931             11601.70213  \n",
       "\n",
       "[41932 rows x 9 columns]"
      ]
     },
     "metadata": {},
     "output_type": "display_data"
    },
    {
     "name": "stdout",
     "output_type": "stream",
     "text": [
      "================== (TEST DATA) ==========================================\n",
      "\n"
     ]
    },
    {
     "data": {
      "text/html": [
       "<div>\n",
       "<style scoped>\n",
       "    .dataframe tbody tr th:only-of-type {\n",
       "        vertical-align: middle;\n",
       "    }\n",
       "\n",
       "    .dataframe tbody tr th {\n",
       "        vertical-align: top;\n",
       "    }\n",
       "\n",
       "    .dataframe thead th {\n",
       "        text-align: right;\n",
       "    }\n",
       "</style>\n",
       "<table border=\"1\" class=\"dataframe\">\n",
       "  <thead>\n",
       "    <tr style=\"text-align: right;\">\n",
       "      <th></th>\n",
       "      <th>Datetime</th>\n",
       "      <th>Temperature</th>\n",
       "      <th>Humidity</th>\n",
       "      <th>WindSpeed</th>\n",
       "      <th>GeneralDiffuseFlows</th>\n",
       "      <th>DiffuseFlows</th>\n",
       "    </tr>\n",
       "  </thead>\n",
       "  <tbody>\n",
       "    <tr>\n",
       "      <th>0</th>\n",
       "      <td>2/12/2017 14:40</td>\n",
       "      <td>13.28</td>\n",
       "      <td>82.80</td>\n",
       "      <td>0.074</td>\n",
       "      <td>127.000</td>\n",
       "      <td>128.400</td>\n",
       "    </tr>\n",
       "    <tr>\n",
       "      <th>1</th>\n",
       "      <td>11/22/2017 15:30</td>\n",
       "      <td>15.72</td>\n",
       "      <td>48.38</td>\n",
       "      <td>4.923</td>\n",
       "      <td>126.200</td>\n",
       "      <td>119.900</td>\n",
       "    </tr>\n",
       "    <tr>\n",
       "      <th>2</th>\n",
       "      <td>10/15/2017 1:50</td>\n",
       "      <td>17.25</td>\n",
       "      <td>85.80</td>\n",
       "      <td>0.079</td>\n",
       "      <td>0.055</td>\n",
       "      <td>0.130</td>\n",
       "    </tr>\n",
       "    <tr>\n",
       "      <th>...</th>\n",
       "      <td>...</td>\n",
       "      <td>...</td>\n",
       "      <td>...</td>\n",
       "      <td>...</td>\n",
       "      <td>...</td>\n",
       "      <td>...</td>\n",
       "    </tr>\n",
       "    <tr>\n",
       "      <th>10480</th>\n",
       "      <td>9/3/2017 7:00</td>\n",
       "      <td>20.34</td>\n",
       "      <td>54.32</td>\n",
       "      <td>4.924</td>\n",
       "      <td>9.500</td>\n",
       "      <td>6.165</td>\n",
       "    </tr>\n",
       "    <tr>\n",
       "      <th>10481</th>\n",
       "      <td>11/23/2017 11:40</td>\n",
       "      <td>11.89</td>\n",
       "      <td>60.13</td>\n",
       "      <td>4.921</td>\n",
       "      <td>469.100</td>\n",
       "      <td>45.410</td>\n",
       "    </tr>\n",
       "    <tr>\n",
       "      <th>10482</th>\n",
       "      <td>6/14/2017 23:40</td>\n",
       "      <td>18.77</td>\n",
       "      <td>63.76</td>\n",
       "      <td>0.080</td>\n",
       "      <td>0.048</td>\n",
       "      <td>0.141</td>\n",
       "    </tr>\n",
       "  </tbody>\n",
       "</table>\n",
       "<p>10483 rows × 6 columns</p>\n",
       "</div>"
      ],
      "text/plain": [
       "               Datetime  Temperature  Humidity  WindSpeed  \\\n",
       "0       2/12/2017 14:40        13.28     82.80      0.074   \n",
       "1      11/22/2017 15:30        15.72     48.38      4.923   \n",
       "2       10/15/2017 1:50        17.25     85.80      0.079   \n",
       "...                 ...          ...       ...        ...   \n",
       "10480     9/3/2017 7:00        20.34     54.32      4.924   \n",
       "10481  11/23/2017 11:40        11.89     60.13      4.921   \n",
       "10482   6/14/2017 23:40        18.77     63.76      0.080   \n",
       "\n",
       "       GeneralDiffuseFlows  DiffuseFlows  \n",
       "0                  127.000       128.400  \n",
       "1                  126.200       119.900  \n",
       "2                    0.055         0.130  \n",
       "...                    ...           ...  \n",
       "10480                9.500         6.165  \n",
       "10481              469.100        45.410  \n",
       "10482                0.048         0.141  \n",
       "\n",
       "[10483 rows x 6 columns]"
      ]
     },
     "metadata": {},
     "output_type": "display_data"
    },
    {
     "name": "stdout",
     "output_type": "stream",
     "text": [
      "===============INFO (TRAINING DATA) =====================================\n",
      "\n",
      "<class 'pandas.core.frame.DataFrame'>\n",
      "RangeIndex: 41932 entries, 0 to 41931\n",
      "Data columns (total 9 columns):\n",
      " #   Column                  Non-Null Count  Dtype  \n",
      "---  ------                  --------------  -----  \n",
      " 0   Datetime                41932 non-null  object \n",
      " 1   Temperature             41932 non-null  float64\n",
      " 2   Humidity                41932 non-null  float64\n",
      " 3   WindSpeed               41932 non-null  float64\n",
      " 4   GeneralDiffuseFlows     41932 non-null  float64\n",
      " 5   DiffuseFlows            41932 non-null  float64\n",
      " 6   PowerConsumption_Zone1  41932 non-null  float64\n",
      " 7   PowerConsumption_Zone2  41932 non-null  float64\n",
      " 8   PowerConsumption_Zone3  41932 non-null  float64\n",
      "dtypes: float64(8), object(1)\n",
      "memory usage: 2.9+ MB\n",
      "None\n",
      "===============INFO (TEST DATA) =========================================\n",
      "\n",
      "<class 'pandas.core.frame.DataFrame'>\n",
      "RangeIndex: 10483 entries, 0 to 10482\n",
      "Data columns (total 6 columns):\n",
      " #   Column               Non-Null Count  Dtype  \n",
      "---  ------               --------------  -----  \n",
      " 0   Datetime             10483 non-null  object \n",
      " 1   Temperature          10483 non-null  float64\n",
      " 2   Humidity             10483 non-null  float64\n",
      " 3   WindSpeed            10483 non-null  float64\n",
      " 4   GeneralDiffuseFlows  10483 non-null  float64\n",
      " 5   DiffuseFlows         10483 non-null  float64\n",
      "dtypes: float64(5), object(1)\n",
      "memory usage: 491.5+ KB\n",
      "None\n",
      "===============% OF NA PER ATTRIBUTE SORTED (TRAINING DATA) =============\n",
      "\n",
      "Datetime                  0.0\n",
      "Temperature               0.0\n",
      "Humidity                  0.0\n",
      "WindSpeed                 0.0\n",
      "GeneralDiffuseFlows       0.0\n",
      "DiffuseFlows              0.0\n",
      "PowerConsumption_Zone1    0.0\n",
      "PowerConsumption_Zone2    0.0\n",
      "PowerConsumption_Zone3    0.0\n",
      "dtype: float64\n",
      "===============% OF NA PER ATTRIBUTE SORTED (TEST DATA) =================\n",
      "\n",
      "Datetime               0.0\n",
      "Temperature            0.0\n",
      "Humidity               0.0\n",
      "WindSpeed              0.0\n",
      "GeneralDiffuseFlows    0.0\n",
      "DiffuseFlows           0.0\n",
      "dtype: float64\n"
     ]
    },
    {
     "data": {
      "image/png": "[encoded data removed]",
      "text/plain": [
       "<Figure size 1440x720 with 1 Axes>"
      ]
     },
     "metadata": {
      "needs_background": "light"
     },
     "output_type": "display_data"
    },
    {
     "name": "stdout",
     "output_type": "stream",
     "text": [
      "===============%  (TEST DATA) =================\n",
      "\n"
     ]
    },
    {
     "data": {
      "image/png": "[encoded data removed]",
      "text/plain": [
       "<Figure size 1440x720 with 1 Axes>"
      ]
     },
     "metadata": {
      "needs_background": "light"
     },
     "output_type": "display_data"
    }
   ],
   "source": [
    "train, test = load_and_see()"
   ]
  },
  {
   "cell_type": "code",
   "execution_count": 7,
   "metadata": {
    "execution": {
     "iopub.execute_input": "2023-02-16T11:44:05.580482Z",
     "iopub.status.busy": "2023-02-16T11:44:05.580089Z",
     "iopub.status.idle": "2023-02-16T11:44:09.805605Z",
     "shell.execute_reply": "2023-02-16T11:44:09.804673Z",
     "shell.execute_reply.started": "2023-02-16T11:44:05.580448Z"
    }
   },
   "outputs": [],
   "source": [
    "train = train.set_index('Datetime')\n",
    "train.index = pd.to_datetime(train.index)"
   ]
  },
  {
   "cell_type": "code",
   "execution_count": 8,
   "metadata": {},
   "outputs": [
    {
     "data": {
      "text/html": [
       "<div>\n",
       "<style scoped>\n",
       "    .dataframe tbody tr th:only-of-type {\n",
       "        vertical-align: middle;\n",
       "    }\n",
       "\n",
       "    .dataframe tbody tr th {\n",
       "        vertical-align: top;\n",
       "    }\n",
       "\n",
       "    .dataframe thead th {\n",
       "        text-align: right;\n",
       "    }\n",
       "</style>\n",
       "<table border=\"1\" class=\"dataframe\">\n",
       "  <thead>\n",
       "    <tr style=\"text-align: right;\">\n",
       "      <th></th>\n",
       "      <th>Temperature</th>\n",
       "      <th>Humidity</th>\n",
       "      <th>WindSpeed</th>\n",
       "      <th>GeneralDiffuseFlows</th>\n",
       "      <th>DiffuseFlows</th>\n",
       "      <th>PowerConsumption_Zone1</th>\n",
       "      <th>PowerConsumption_Zone2</th>\n",
       "      <th>PowerConsumption_Zone3</th>\n",
       "    </tr>\n",
       "    <tr>\n",
       "      <th>Datetime</th>\n",
       "      <th></th>\n",
       "      <th></th>\n",
       "      <th></th>\n",
       "      <th></th>\n",
       "      <th></th>\n",
       "      <th></th>\n",
       "      <th></th>\n",
       "      <th></th>\n",
       "    </tr>\n",
       "  </thead>\n",
       "  <tbody>\n",
       "    <tr>\n",
       "      <th>2017-10-12 08:20:00</th>\n",
       "      <td>17.32</td>\n",
       "      <td>80.50</td>\n",
       "      <td>0.086</td>\n",
       "      <td>147.700</td>\n",
       "      <td>28.220</td>\n",
       "      <td>30741.00656</td>\n",
       "      <td>19258.50622</td>\n",
       "      <td>10632.94833</td>\n",
       "    </tr>\n",
       "    <tr>\n",
       "      <th>2017-11-02 02:00:00</th>\n",
       "      <td>19.59</td>\n",
       "      <td>49.23</td>\n",
       "      <td>0.083</td>\n",
       "      <td>0.095</td>\n",
       "      <td>0.078</td>\n",
       "      <td>23366.15385</td>\n",
       "      <td>18457.43802</td>\n",
       "      <td>10768.19277</td>\n",
       "    </tr>\n",
       "    <tr>\n",
       "      <th>2017-06-28 16:00:00</th>\n",
       "      <td>27.72</td>\n",
       "      <td>50.17</td>\n",
       "      <td>4.917</td>\n",
       "      <td>689.700</td>\n",
       "      <td>99.700</td>\n",
       "      <td>33797.08609</td>\n",
       "      <td>21805.82121</td>\n",
       "      <td>22573.29231</td>\n",
       "    </tr>\n",
       "    <tr>\n",
       "      <th>2017-08-27 07:00:00</th>\n",
       "      <td>23.39</td>\n",
       "      <td>88.60</td>\n",
       "      <td>4.917</td>\n",
       "      <td>8.370</td>\n",
       "      <td>6.426</td>\n",
       "      <td>24420.86570</td>\n",
       "      <td>14301.16156</td>\n",
       "      <td>13247.39812</td>\n",
       "    </tr>\n",
       "    <tr>\n",
       "      <th>2017-03-02 18:40:00</th>\n",
       "      <td>18.46</td>\n",
       "      <td>71.40</td>\n",
       "      <td>4.914</td>\n",
       "      <td>39.410</td>\n",
       "      <td>37.970</td>\n",
       "      <td>43708.59574</td>\n",
       "      <td>25880.48780</td>\n",
       "      <td>24741.29032</td>\n",
       "    </tr>\n",
       "  </tbody>\n",
       "</table>\n",
       "</div>"
      ],
      "text/plain": [
       "                     Temperature  Humidity  WindSpeed  GeneralDiffuseFlows  \\\n",
       "Datetime                                                                     \n",
       "2017-10-12 08:20:00        17.32     80.50      0.086              147.700   \n",
       "2017-11-02 02:00:00        19.59     49.23      0.083                0.095   \n",
       "2017-06-28 16:00:00        27.72     50.17      4.917              689.700   \n",
       "2017-08-27 07:00:00        23.39     88.60      4.917                8.370   \n",
       "2017-03-02 18:40:00        18.46     71.40      4.914               39.410   \n",
       "\n",
       "                     DiffuseFlows  PowerConsumption_Zone1  \\\n",
       "Datetime                                                    \n",
       "2017-10-12 08:20:00        28.220             30741.00656   \n",
       "2017-11-02 02:00:00         0.078             23366.15385   \n",
       "2017-06-28 16:00:00        99.700             33797.08609   \n",
       "2017-08-27 07:00:00         6.426             24420.86570   \n",
       "2017-03-02 18:40:00        37.970             43708.59574   \n",
       "\n",
       "                     PowerConsumption_Zone2  PowerConsumption_Zone3  \n",
       "Datetime                                                             \n",
       "2017-10-12 08:20:00             19258.50622             10632.94833  \n",
       "2017-11-02 02:00:00             18457.43802             10768.19277  \n",
       "2017-06-28 16:00:00             21805.82121             22573.29231  \n",
       "2017-08-27 07:00:00             14301.16156             13247.39812  \n",
       "2017-03-02 18:40:00             25880.48780             24741.29032  "
      ]
     },
     "execution_count": 8,
     "metadata": {},
     "output_type": "execute_result"
    }
   ],
   "source": [
    "train.head()"
   ]
  },
  {
   "cell_type": "markdown",
   "metadata": {},
   "source": [
    "## Feature Creation"
   ]
  },
  {
   "cell_type": "code",
   "execution_count": 9,
   "metadata": {
    "execution": {
     "iopub.execute_input": "2023-02-16T11:44:09.807760Z",
     "iopub.status.busy": "2023-02-16T11:44:09.807243Z",
     "iopub.status.idle": "2023-02-16T11:44:09.875625Z",
     "shell.execute_reply": "2023-02-16T11:44:09.874438Z",
     "shell.execute_reply.started": "2023-02-16T11:44:09.807710Z"
    }
   },
   "outputs": [],
   "source": [
    "def create_features(df):\n",
    "    \"\"\"\n",
    "    Create time series features based on time series index.\n",
    "    \"\"\"\n",
    "    df = df.copy()\n",
    "    df['hour'] = df.index.hour\n",
    "    df['dayofweek'] = df.index.dayofweek\n",
    "    df['quarter'] = df.index.quarter\n",
    "    df['month'] = df.index.month\n",
    "    df['year'] = df.index.year\n",
    "    df['dayofyear'] = df.index.dayofyear\n",
    "    df['dayofmonth'] = df.index.day\n",
    "    df['weekofyear'] = df.index.isocalendar().week\n",
    "    return df\n",
    "\n",
    "df = create_features(train)"
   ]
  },
  {
   "cell_type": "code",
   "execution_count": 10,
   "metadata": {
    "execution": {
     "iopub.execute_input": "2023-02-16T11:44:09.877818Z",
     "iopub.status.busy": "2023-02-16T11:44:09.877450Z",
     "iopub.status.idle": "2023-02-16T11:44:09.902283Z",
     "shell.execute_reply": "2023-02-16T11:44:09.900728Z",
     "shell.execute_reply.started": "2023-02-16T11:44:09.877783Z"
    }
   },
   "outputs": [
    {
     "data": {
      "text/html": [
       "<div>\n",
       "<style scoped>\n",
       "    .dataframe tbody tr th:only-of-type {\n",
       "        vertical-align: middle;\n",
       "    }\n",
       "\n",
       "    .dataframe tbody tr th {\n",
       "        vertical-align: top;\n",
       "    }\n",
       "\n",
       "    .dataframe thead th {\n",
       "        text-align: right;\n",
       "    }\n",
       "</style>\n",
       "<table border=\"1\" class=\"dataframe\">\n",
       "  <thead>\n",
       "    <tr style=\"text-align: right;\">\n",
       "      <th></th>\n",
       "      <th>Temperature</th>\n",
       "      <th>Humidity</th>\n",
       "      <th>WindSpeed</th>\n",
       "      <th>GeneralDiffuseFlows</th>\n",
       "      <th>DiffuseFlows</th>\n",
       "      <th>PowerConsumption_Zone1</th>\n",
       "      <th>PowerConsumption_Zone2</th>\n",
       "      <th>PowerConsumption_Zone3</th>\n",
       "      <th>hour</th>\n",
       "      <th>dayofweek</th>\n",
       "      <th>quarter</th>\n",
       "      <th>month</th>\n",
       "      <th>year</th>\n",
       "      <th>dayofyear</th>\n",
       "      <th>dayofmonth</th>\n",
       "      <th>weekofyear</th>\n",
       "    </tr>\n",
       "    <tr>\n",
       "      <th>Datetime</th>\n",
       "      <th></th>\n",
       "      <th></th>\n",
       "      <th></th>\n",
       "      <th></th>\n",
       "      <th></th>\n",
       "      <th></th>\n",
       "      <th></th>\n",
       "      <th></th>\n",
       "      <th></th>\n",
       "      <th></th>\n",
       "      <th></th>\n",
       "      <th></th>\n",
       "      <th></th>\n",
       "      <th></th>\n",
       "      <th></th>\n",
       "      <th></th>\n",
       "    </tr>\n",
       "  </thead>\n",
       "  <tbody>\n",
       "    <tr>\n",
       "      <th>2017-10-12 08:20:00</th>\n",
       "      <td>17.32</td>\n",
       "      <td>80.50</td>\n",
       "      <td>0.086</td>\n",
       "      <td>147.700</td>\n",
       "      <td>28.220</td>\n",
       "      <td>30741.00656</td>\n",
       "      <td>19258.50622</td>\n",
       "      <td>10632.94833</td>\n",
       "      <td>8</td>\n",
       "      <td>3</td>\n",
       "      <td>4</td>\n",
       "      <td>10</td>\n",
       "      <td>2017</td>\n",
       "      <td>285</td>\n",
       "      <td>12</td>\n",
       "      <td>41</td>\n",
       "    </tr>\n",
       "    <tr>\n",
       "      <th>2017-11-02 02:00:00</th>\n",
       "      <td>19.59</td>\n",
       "      <td>49.23</td>\n",
       "      <td>0.083</td>\n",
       "      <td>0.095</td>\n",
       "      <td>0.078</td>\n",
       "      <td>23366.15385</td>\n",
       "      <td>18457.43802</td>\n",
       "      <td>10768.19277</td>\n",
       "      <td>2</td>\n",
       "      <td>3</td>\n",
       "      <td>4</td>\n",
       "      <td>11</td>\n",
       "      <td>2017</td>\n",
       "      <td>306</td>\n",
       "      <td>2</td>\n",
       "      <td>44</td>\n",
       "    </tr>\n",
       "    <tr>\n",
       "      <th>2017-06-28 16:00:00</th>\n",
       "      <td>27.72</td>\n",
       "      <td>50.17</td>\n",
       "      <td>4.917</td>\n",
       "      <td>689.700</td>\n",
       "      <td>99.700</td>\n",
       "      <td>33797.08609</td>\n",
       "      <td>21805.82121</td>\n",
       "      <td>22573.29231</td>\n",
       "      <td>16</td>\n",
       "      <td>2</td>\n",
       "      <td>2</td>\n",
       "      <td>6</td>\n",
       "      <td>2017</td>\n",
       "      <td>179</td>\n",
       "      <td>28</td>\n",
       "      <td>26</td>\n",
       "    </tr>\n",
       "    <tr>\n",
       "      <th>2017-08-27 07:00:00</th>\n",
       "      <td>23.39</td>\n",
       "      <td>88.60</td>\n",
       "      <td>4.917</td>\n",
       "      <td>8.370</td>\n",
       "      <td>6.426</td>\n",
       "      <td>24420.86570</td>\n",
       "      <td>14301.16156</td>\n",
       "      <td>13247.39812</td>\n",
       "      <td>7</td>\n",
       "      <td>6</td>\n",
       "      <td>3</td>\n",
       "      <td>8</td>\n",
       "      <td>2017</td>\n",
       "      <td>239</td>\n",
       "      <td>27</td>\n",
       "      <td>34</td>\n",
       "    </tr>\n",
       "    <tr>\n",
       "      <th>2017-03-02 18:40:00</th>\n",
       "      <td>18.46</td>\n",
       "      <td>71.40</td>\n",
       "      <td>4.914</td>\n",
       "      <td>39.410</td>\n",
       "      <td>37.970</td>\n",
       "      <td>43708.59574</td>\n",
       "      <td>25880.48780</td>\n",
       "      <td>24741.29032</td>\n",
       "      <td>18</td>\n",
       "      <td>3</td>\n",
       "      <td>1</td>\n",
       "      <td>3</td>\n",
       "      <td>2017</td>\n",
       "      <td>61</td>\n",
       "      <td>2</td>\n",
       "      <td>9</td>\n",
       "    </tr>\n",
       "  </tbody>\n",
       "</table>\n",
       "</div>"
      ],
      "text/plain": [
       "                     Temperature  Humidity  WindSpeed  GeneralDiffuseFlows  \\\n",
       "Datetime                                                                     \n",
       "2017-10-12 08:20:00        17.32     80.50      0.086              147.700   \n",
       "2017-11-02 02:00:00        19.59     49.23      0.083                0.095   \n",
       "2017-06-28 16:00:00        27.72     50.17      4.917              689.700   \n",
       "2017-08-27 07:00:00        23.39     88.60      4.917                8.370   \n",
       "2017-03-02 18:40:00        18.46     71.40      4.914               39.410   \n",
       "\n",
       "                     DiffuseFlows  PowerConsumption_Zone1  \\\n",
       "Datetime                                                    \n",
       "2017-10-12 08:20:00        28.220             30741.00656   \n",
       "2017-11-02 02:00:00         0.078             23366.15385   \n",
       "2017-06-28 16:00:00        99.700             33797.08609   \n",
       "2017-08-27 07:00:00         6.426             24420.86570   \n",
       "2017-03-02 18:40:00        37.970             43708.59574   \n",
       "\n",
       "                     PowerConsumption_Zone2  PowerConsumption_Zone3  hour  \\\n",
       "Datetime                                                                    \n",
       "2017-10-12 08:20:00             19258.50622             10632.94833     8   \n",
       "2017-11-02 02:00:00             18457.43802             10768.19277     2   \n",
       "2017-06-28 16:00:00             21805.82121             22573.29231    16   \n",
       "2017-08-27 07:00:00             14301.16156             13247.39812     7   \n",
       "2017-03-02 18:40:00             25880.48780             24741.29032    18   \n",
       "\n",
       "                     dayofweek  quarter  month  year  dayofyear  dayofmonth  \\\n",
       "Datetime                                                                      \n",
       "2017-10-12 08:20:00          3        4     10  2017        285          12   \n",
       "2017-11-02 02:00:00          3        4     11  2017        306           2   \n",
       "2017-06-28 16:00:00          2        2      6  2017        179          28   \n",
       "2017-08-27 07:00:00          6        3      8  2017        239          27   \n",
       "2017-03-02 18:40:00          3        1      3  2017         61           2   \n",
       "\n",
       "                     weekofyear  \n",
       "Datetime                         \n",
       "2017-10-12 08:20:00          41  \n",
       "2017-11-02 02:00:00          44  \n",
       "2017-06-28 16:00:00          26  \n",
       "2017-08-27 07:00:00          34  \n",
       "2017-03-02 18:40:00           9  "
      ]
     },
     "execution_count": 10,
     "metadata": {},
     "output_type": "execute_result"
    }
   ],
   "source": [
    "df.head(5)"
   ]
  },
  {
   "cell_type": "code",
   "execution_count": 11,
   "metadata": {
    "execution": {
     "iopub.execute_input": "2023-02-16T11:44:09.904464Z",
     "iopub.status.busy": "2023-02-16T11:44:09.904088Z",
     "iopub.status.idle": "2023-02-16T11:44:09.921084Z",
     "shell.execute_reply": "2023-02-16T11:44:09.919967Z",
     "shell.execute_reply.started": "2023-02-16T11:44:09.904431Z"
    }
   },
   "outputs": [],
   "source": [
    "df_train = df.loc[df.index < '2017-08-29 13:40:00']\n",
    "df_test = df.loc[df.index >= '2017-08-29 13:40:00']"
   ]
  },
  {
   "cell_type": "markdown",
   "metadata": {},
   "source": [
    "## Train / Test Split"
   ]
  },
  {
   "cell_type": "code",
   "execution_count": 12,
   "metadata": {
    "execution": {
     "iopub.execute_input": "2023-02-16T11:44:09.923150Z",
     "iopub.status.busy": "2023-02-16T11:44:09.922769Z",
     "iopub.status.idle": "2023-02-16T11:44:10.606607Z",
     "shell.execute_reply": "2023-02-16T11:44:10.605201Z",
     "shell.execute_reply.started": "2023-02-16T11:44:09.923115Z"
    }
   },
   "outputs": [
    {
     "data": {
      "image/png": "[encoded data removed]",
      "text/plain": [
       "<Figure size 1080x360 with 1 Axes>"
      ]
     },
     "metadata": {
      "needs_background": "light"
     },
     "output_type": "display_data"
    }
   ],
   "source": [
    "fig, ax = plt.subplots(figsize=(15, 5))\n",
    "df_train['PowerConsumption_Zone1'].plot(ax=ax, label='Training Set', title='Data Train/Test Split')\n",
    "df_test['PowerConsumption_Zone1'].plot(ax=ax, label='Test Set')\n",
    "ax.axvline('2017-08-29 13:40:00', color='black', ls='--')\n",
    "ax.legend(['Training Set', 'Test Set'])\n",
    "plt.show()"
   ]
  },
  {
   "cell_type": "markdown",
   "metadata": {},
   "source": [
    "# Visualize our Feature / Target Relationship"
   ]
  },
  {
   "cell_type": "code",
   "execution_count": 13,
   "metadata": {
    "execution": {
     "iopub.execute_input": "2023-02-16T11:44:10.609011Z",
     "iopub.status.busy": "2023-02-16T11:44:10.608155Z",
     "iopub.status.idle": "2023-02-16T11:44:11.179473Z",
     "shell.execute_reply": "2023-02-16T11:44:11.178286Z",
     "shell.execute_reply.started": "2023-02-16T11:44:10.608971Z"
    }
   },
   "outputs": [
    {
     "data": {
      "image/png": "[encoded data removed]",
      "text/plain": [
       "<Figure size 720x576 with 1 Axes>"
      ]
     },
     "metadata": {
      "needs_background": "light"
     },
     "output_type": "display_data"
    }
   ],
   "source": [
    "fig, ax = plt.subplots(figsize=(10, 8))\n",
    "sns.boxplot(data=df, x='hour', y='PowerConsumption_Zone1')\n",
    "ax.set_title('Power Consumption Zone1 by Hour')\n",
    "plt.show()"
   ]
  },
  {
   "cell_type": "markdown",
   "metadata": {},
   "source": [
    "# outli???"
   ]
  },
  {
   "cell_type": "code",
   "execution_count": 14,
   "metadata": {
    "execution": {
     "iopub.execute_input": "2023-02-16T11:44:11.182421Z",
     "iopub.status.busy": "2023-02-16T11:44:11.181406Z",
     "iopub.status.idle": "2023-02-16T11:44:11.564037Z",
     "shell.execute_reply": "2023-02-16T11:44:11.562833Z",
     "shell.execute_reply.started": "2023-02-16T11:44:11.182368Z"
    }
   },
   "outputs": [
    {
     "data": {
      "image/png": "[encoded data removed]",
      "text/plain": [
       "<Figure size 720x576 with 1 Axes>"
      ]
     },
     "metadata": {
      "needs_background": "light"
     },
     "output_type": "display_data"
    }
   ],
   "source": [
    "fig, ax = plt.subplots(figsize=(10, 8))\n",
    "sns.boxplot(data=df, x='month', y='PowerConsumption_Zone1')\n",
    "ax.set_title('Power Consumption Zone1 by Hour')\n",
    "plt.show()"
   ]
  },
  {
   "cell_type": "markdown",
   "metadata": {},
   "source": [
    "## Create our Model for PowerConsumption_Zone1"
   ]
  },
  {
   "cell_type": "code",
   "execution_count": 15,
   "metadata": {
    "execution": {
     "iopub.execute_input": "2023-02-16T11:44:11.566151Z",
     "iopub.status.busy": "2023-02-16T11:44:11.565624Z",
     "iopub.status.idle": "2023-02-16T11:44:11.576052Z",
     "shell.execute_reply": "2023-02-16T11:44:11.574797Z",
     "shell.execute_reply.started": "2023-02-16T11:44:11.566113Z"
    }
   },
   "outputs": [],
   "source": [
    "FEATURES = ['Temperature','Humidity','WindSpeed','GeneralDiffuseFlows','DiffuseFlows','dayofyear', 'hour', 'dayofweek', 'quarter', 'month', 'year']\n",
    "TARGET1 = 'PowerConsumption_Zone1'\n",
    "\n",
    "X_train1 = df_train[FEATURES]\n",
    "y_train1 = df_train[TARGET1]\n",
    "\n",
    "X_test1 = df_test[FEATURES]\n",
    "y_test1 = df_test[TARGET1]"
   ]
  },
  {
   "cell_type": "code",
   "execution_count": 16,
   "metadata": {
    "execution": {
     "iopub.execute_input": "2023-02-16T11:44:11.578567Z",
     "iopub.status.busy": "2023-02-16T11:44:11.577880Z",
     "iopub.status.idle": "2023-02-16T11:44:17.635836Z",
     "shell.execute_reply": "2023-02-16T11:44:17.634881Z",
     "shell.execute_reply.started": "2023-02-16T11:44:11.578512Z"
    }
   },
   "outputs": [
    {
     "name": "stdout",
     "output_type": "stream",
     "text": [
      "[15:57:41] WARNING: C:/buildkite-agent/builds/buildkite-windows-cpu-autoscaling-group-i-0fc7796c793e6356f-1/xgboost/xgboost-ci-windows/src/objective/regression_obj.cu:213: reg:linear is now deprecated in favor of reg:squarederror.\n",
      "[0]\tvalidation_0-rmse:33379.82013\tvalidation_1-rmse:31453.48613\n",
      "[1]\tvalidation_0-rmse:33047.67533\tvalidation_1-rmse:31087.89950\n",
      "[2]\tvalidation_0-rmse:32718.86209\tvalidation_1-rmse:30725.95364\n",
      "[3]\tvalidation_0-rmse:32393.34215\tvalidation_1-rmse:30367.75666\n",
      "[4]\tvalidation_0-rmse:32071.08772\tvalidation_1-rmse:30013.13067\n",
      "[5]\tvalidation_0-rmse:31752.06030\tvalidation_1-rmse:29662.20770\n",
      "[6]\tvalidation_0-rmse:31436.23236\tvalidation_1-rmse:29314.75864\n",
      "[7]\tvalidation_0-rmse:31123.60895\tvalidation_1-rmse:28969.84415\n",
      "[8]\tvalidation_0-rmse:30814.08177\tvalidation_1-rmse:28629.33544\n",
      "[9]\tvalidation_0-rmse:30507.69569\tvalidation_1-rmse:28293.49109\n",
      "[10]\tvalidation_0-rmse:30204.34118\tvalidation_1-rmse:27959.92901\n",
      "[11]\tvalidation_0-rmse:29904.06699\tvalidation_1-rmse:27630.88975\n",
      "[12]\tvalidation_0-rmse:29606.76109\tvalidation_1-rmse:27302.45579\n",
      "[13]\tvalidation_0-rmse:29312.44174\tvalidation_1-rmse:26978.80159\n",
      "[14]\tvalidation_0-rmse:29021.10645\tvalidation_1-rmse:26659.64644\n",
      "[15]\tvalidation_0-rmse:28732.65425\tvalidation_1-rmse:26342.89357\n",
      "[16]\tvalidation_0-rmse:28447.08148\tvalidation_1-rmse:26029.16455\n",
      "[17]\tvalidation_0-rmse:28164.38739\tvalidation_1-rmse:25718.61882\n",
      "[18]\tvalidation_0-rmse:27884.55573\tvalidation_1-rmse:25412.28447\n",
      "[19]\tvalidation_0-rmse:27607.48628\tvalidation_1-rmse:25108.06402\n",
      "[20]\tvalidation_0-rmse:27333.20614\tvalidation_1-rmse:24807.21203\n",
      "[21]\tvalidation_0-rmse:27061.70657\tvalidation_1-rmse:24510.10565\n",
      "[22]\tvalidation_0-rmse:26792.88691\tvalidation_1-rmse:24215.37182\n",
      "[23]\tvalidation_0-rmse:26526.76111\tvalidation_1-rmse:23923.11800\n",
      "[24]\tvalidation_0-rmse:26263.35189\tvalidation_1-rmse:23635.39306\n",
      "[25]\tvalidation_0-rmse:26002.51934\tvalidation_1-rmse:23349.27039\n",
      "[26]\tvalidation_0-rmse:25744.32830\tvalidation_1-rmse:23066.02657\n",
      "[27]\tvalidation_0-rmse:25488.74621\tvalidation_1-rmse:22785.16462\n",
      "[28]\tvalidation_0-rmse:25235.72953\tvalidation_1-rmse:22507.63362\n",
      "[29]\tvalidation_0-rmse:24985.25844\tvalidation_1-rmse:22233.91798\n",
      "[30]\tvalidation_0-rmse:24737.23424\tvalidation_1-rmse:21961.93346\n",
      "[31]\tvalidation_0-rmse:24491.68913\tvalidation_1-rmse:21693.58966\n",
      "[32]\tvalidation_0-rmse:24248.68031\tvalidation_1-rmse:21426.53561\n",
      "[33]\tvalidation_0-rmse:24008.03085\tvalidation_1-rmse:21162.62353\n",
      "[34]\tvalidation_0-rmse:23769.84390\tvalidation_1-rmse:20902.06613\n",
      "[35]\tvalidation_0-rmse:23534.08706\tvalidation_1-rmse:20643.05605\n",
      "[36]\tvalidation_0-rmse:23300.61994\tvalidation_1-rmse:20387.79860\n",
      "[37]\tvalidation_0-rmse:23069.56463\tvalidation_1-rmse:20133.95289\n",
      "[38]\tvalidation_0-rmse:22840.73942\tvalidation_1-rmse:19883.77984\n",
      "[39]\tvalidation_0-rmse:22614.24350\tvalidation_1-rmse:19636.27089\n",
      "[40]\tvalidation_0-rmse:22390.03417\tvalidation_1-rmse:19390.27519\n",
      "[41]\tvalidation_0-rmse:22168.04102\tvalidation_1-rmse:19147.56588\n",
      "[42]\tvalidation_0-rmse:21948.32247\tvalidation_1-rmse:18906.70553\n",
      "[43]\tvalidation_0-rmse:21730.74756\tvalidation_1-rmse:18669.47144\n",
      "[44]\tvalidation_0-rmse:21515.35628\tvalidation_1-rmse:18433.93139\n",
      "[45]\tvalidation_0-rmse:21302.14887\tvalidation_1-rmse:18201.66225\n",
      "[46]\tvalidation_0-rmse:21091.14555\tvalidation_1-rmse:17971.07314\n",
      "[47]\tvalidation_0-rmse:20882.18897\tvalidation_1-rmse:17743.03954\n",
      "[48]\tvalidation_0-rmse:20675.40453\tvalidation_1-rmse:17517.36210\n",
      "[49]\tvalidation_0-rmse:20470.61732\tvalidation_1-rmse:17294.59467\n",
      "[50]\tvalidation_0-rmse:20267.96993\tvalidation_1-rmse:17077.70176\n",
      "[51]\tvalidation_0-rmse:20067.31843\tvalidation_1-rmse:16858.82275\n",
      "[52]\tvalidation_0-rmse:19868.64101\tvalidation_1-rmse:16642.80924\n",
      "[53]\tvalidation_0-rmse:19671.99108\tvalidation_1-rmse:16432.65882\n",
      "[54]\tvalidation_0-rmse:19477.31962\tvalidation_1-rmse:16221.26763\n",
      "[55]\tvalidation_0-rmse:19284.65519\tvalidation_1-rmse:16012.37195\n",
      "[56]\tvalidation_0-rmse:19093.84562\tvalidation_1-rmse:15805.55170\n",
      "[57]\tvalidation_0-rmse:18905.02316\tvalidation_1-rmse:15600.92511\n",
      "[58]\tvalidation_0-rmse:18718.02464\tvalidation_1-rmse:15399.06980\n",
      "[59]\tvalidation_0-rmse:18532.89601\tvalidation_1-rmse:15198.45962\n",
      "[60]\tvalidation_0-rmse:18349.71626\tvalidation_1-rmse:15000.62289\n",
      "[61]\tvalidation_0-rmse:18168.28713\tvalidation_1-rmse:14805.15835\n",
      "[62]\tvalidation_0-rmse:17988.73952\tvalidation_1-rmse:14612.43243\n",
      "[63]\tvalidation_0-rmse:17811.03197\tvalidation_1-rmse:14421.11343\n",
      "[64]\tvalidation_0-rmse:17635.06457\tvalidation_1-rmse:14231.01225\n",
      "[65]\tvalidation_0-rmse:17460.82264\tvalidation_1-rmse:14043.76580\n",
      "[66]\tvalidation_0-rmse:17288.40195\tvalidation_1-rmse:13857.74914\n",
      "[67]\tvalidation_0-rmse:17117.64090\tvalidation_1-rmse:13673.95245\n",
      "[68]\tvalidation_0-rmse:16948.65029\tvalidation_1-rmse:13491.48679\n",
      "[69]\tvalidation_0-rmse:16781.31247\tvalidation_1-rmse:13311.70234\n",
      "[70]\tvalidation_0-rmse:16615.62432\tvalidation_1-rmse:13130.92868\n",
      "[71]\tvalidation_0-rmse:16451.73055\tvalidation_1-rmse:12957.44793\n",
      "[72]\tvalidation_0-rmse:16289.37274\tvalidation_1-rmse:12782.64143\n",
      "[73]\tvalidation_0-rmse:16128.76892\tvalidation_1-rmse:12612.37642\n",
      "[74]\tvalidation_0-rmse:15969.66633\tvalidation_1-rmse:12441.40925\n",
      "[75]\tvalidation_0-rmse:15812.19730\tvalidation_1-rmse:12273.42134\n",
      "[76]\tvalidation_0-rmse:15656.35261\tvalidation_1-rmse:12107.35812\n",
      "[77]\tvalidation_0-rmse:15502.04619\tvalidation_1-rmse:11944.44768\n",
      "[78]\tvalidation_0-rmse:15349.35018\tvalidation_1-rmse:11780.88685\n",
      "[79]\tvalidation_0-rmse:15198.13028\tvalidation_1-rmse:11621.52901\n",
      "[80]\tvalidation_0-rmse:15048.42715\tvalidation_1-rmse:11464.36523\n",
      "[81]\tvalidation_0-rmse:14900.30367\tvalidation_1-rmse:11306.26504\n",
      "[82]\tvalidation_0-rmse:14753.60731\tvalidation_1-rmse:11152.17885\n",
      "[83]\tvalidation_0-rmse:14608.33609\tvalidation_1-rmse:10996.59527\n",
      "[84]\tvalidation_0-rmse:14464.67883\tvalidation_1-rmse:10846.36201\n",
      "[85]\tvalidation_0-rmse:14322.33395\tvalidation_1-rmse:10696.17758\n",
      "[86]\tvalidation_0-rmse:14181.43966\tvalidation_1-rmse:10549.66857\n",
      "[87]\tvalidation_0-rmse:14042.03800\tvalidation_1-rmse:10403.68457\n",
      "[88]\tvalidation_0-rmse:13903.98662\tvalidation_1-rmse:10259.28889\n",
      "[89]\tvalidation_0-rmse:13767.34418\tvalidation_1-rmse:10116.54650\n",
      "[90]\tvalidation_0-rmse:13632.10760\tvalidation_1-rmse:9974.25228\n",
      "[91]\tvalidation_0-rmse:13498.17571\tvalidation_1-rmse:9834.53479\n",
      "[92]\tvalidation_0-rmse:13365.57866\tvalidation_1-rmse:9696.74595\n",
      "[93]\tvalidation_0-rmse:13234.33028\tvalidation_1-rmse:9560.49096\n",
      "[94]\tvalidation_0-rmse:13104.49508\tvalidation_1-rmse:9426.94362\n",
      "[95]\tvalidation_0-rmse:12975.86873\tvalidation_1-rmse:9296.28520\n",
      "[96]\tvalidation_0-rmse:12848.55410\tvalidation_1-rmse:9166.72293\n",
      "[97]\tvalidation_0-rmse:12722.60962\tvalidation_1-rmse:9037.56485\n",
      "[98]\tvalidation_0-rmse:12597.82646\tvalidation_1-rmse:8909.82216\n",
      "[99]\tvalidation_0-rmse:12474.38977\tvalidation_1-rmse:8782.70198\n",
      "[100]\tvalidation_0-rmse:12352.13814\tvalidation_1-rmse:8659.14885\n",
      "[101]\tvalidation_0-rmse:12231.13676\tvalidation_1-rmse:8536.28565\n",
      "[102]\tvalidation_0-rmse:12111.37605\tvalidation_1-rmse:8415.06454\n",
      "[103]\tvalidation_0-rmse:11992.82019\tvalidation_1-rmse:8294.81547\n",
      "[104]\tvalidation_0-rmse:11875.53101\tvalidation_1-rmse:8177.13748\n",
      "[105]\tvalidation_0-rmse:11759.32842\tvalidation_1-rmse:8062.28184\n",
      "[106]\tvalidation_0-rmse:11644.31479\tvalidation_1-rmse:7947.78741\n",
      "[107]\tvalidation_0-rmse:11530.41871\tvalidation_1-rmse:7834.53273\n",
      "[108]\tvalidation_0-rmse:11417.76990\tvalidation_1-rmse:7720.77493\n",
      "[109]\tvalidation_0-rmse:11306.24827\tvalidation_1-rmse:7611.50933\n",
      "[110]\tvalidation_0-rmse:11195.75921\tvalidation_1-rmse:7502.61342\n",
      "[111]\tvalidation_0-rmse:11086.44309\tvalidation_1-rmse:7395.68117\n",
      "[112]\tvalidation_0-rmse:10978.17123\tvalidation_1-rmse:7288.30535\n",
      "[113]\tvalidation_0-rmse:10871.00156\tvalidation_1-rmse:7183.51076\n",
      "[114]\tvalidation_0-rmse:10764.93085\tvalidation_1-rmse:7082.27492\n",
      "[115]\tvalidation_0-rmse:10659.93703\tvalidation_1-rmse:6980.42829\n",
      "[116]\tvalidation_0-rmse:10556.03888\tvalidation_1-rmse:6881.27597\n",
      "[117]\tvalidation_0-rmse:10453.16655\tvalidation_1-rmse:6784.05029\n",
      "[118]\tvalidation_0-rmse:10351.32877\tvalidation_1-rmse:6687.11185\n",
      "[119]\tvalidation_0-rmse:10250.54107\tvalidation_1-rmse:6591.17385\n",
      "[120]\tvalidation_0-rmse:10150.78409\tvalidation_1-rmse:6497.27624\n",
      "[121]\tvalidation_0-rmse:10052.03073\tvalidation_1-rmse:6405.84462\n",
      "[122]\tvalidation_0-rmse:9954.31276\tvalidation_1-rmse:6315.57159\n"
     ]
    },
    {
     "name": "stdout",
     "output_type": "stream",
     "text": [
      "[123]\tvalidation_0-rmse:9857.56105\tvalidation_1-rmse:6225.29085\n",
      "[124]\tvalidation_0-rmse:9761.83338\tvalidation_1-rmse:6137.80019\n",
      "[125]\tvalidation_0-rmse:9667.03835\tvalidation_1-rmse:6051.60906\n",
      "[126]\tvalidation_0-rmse:9573.22017\tvalidation_1-rmse:5965.78038\n",
      "[127]\tvalidation_0-rmse:9480.35456\tvalidation_1-rmse:5881.49777\n",
      "[128]\tvalidation_0-rmse:9388.37480\tvalidation_1-rmse:5797.17994\n",
      "[129]\tvalidation_0-rmse:9297.36159\tvalidation_1-rmse:5715.93160\n",
      "[130]\tvalidation_0-rmse:9207.27462\tvalidation_1-rmse:5637.17657\n",
      "[131]\tvalidation_0-rmse:9118.02258\tvalidation_1-rmse:5557.48031\n",
      "[132]\tvalidation_0-rmse:9029.73494\tvalidation_1-rmse:5481.72027\n",
      "[133]\tvalidation_0-rmse:8942.31641\tvalidation_1-rmse:5405.75055\n",
      "[134]\tvalidation_0-rmse:8855.89042\tvalidation_1-rmse:5331.97986\n",
      "[135]\tvalidation_0-rmse:8770.27197\tvalidation_1-rmse:5259.70219\n",
      "[136]\tvalidation_0-rmse:8685.54710\tvalidation_1-rmse:5189.06452\n",
      "[137]\tvalidation_0-rmse:8601.63095\tvalidation_1-rmse:5118.66440\n",
      "[138]\tvalidation_0-rmse:8518.60401\tvalidation_1-rmse:5050.07170\n",
      "[139]\tvalidation_0-rmse:8436.50442\tvalidation_1-rmse:4982.79374\n",
      "[140]\tvalidation_0-rmse:8355.17228\tvalidation_1-rmse:4918.48807\n",
      "[141]\tvalidation_0-rmse:8274.63695\tvalidation_1-rmse:4853.63137\n",
      "[142]\tvalidation_0-rmse:8195.01628\tvalidation_1-rmse:4791.58289\n",
      "[143]\tvalidation_0-rmse:8116.10113\tvalidation_1-rmse:4729.31181\n",
      "[144]\tvalidation_0-rmse:8038.12805\tvalidation_1-rmse:4670.30365\n",
      "[145]\tvalidation_0-rmse:7960.89616\tvalidation_1-rmse:4611.83832\n",
      "[146]\tvalidation_0-rmse:7884.35964\tvalidation_1-rmse:4553.61781\n",
      "[147]\tvalidation_0-rmse:7808.67522\tvalidation_1-rmse:4496.24523\n",
      "[148]\tvalidation_0-rmse:7733.91175\tvalidation_1-rmse:4442.49579\n",
      "[149]\tvalidation_0-rmse:7659.78169\tvalidation_1-rmse:4389.97561\n",
      "[150]\tvalidation_0-rmse:7586.33963\tvalidation_1-rmse:4337.43913\n",
      "[151]\tvalidation_0-rmse:7513.79564\tvalidation_1-rmse:4288.44396\n",
      "[152]\tvalidation_0-rmse:7441.92377\tvalidation_1-rmse:4238.06619\n",
      "[153]\tvalidation_0-rmse:7370.73384\tvalidation_1-rmse:4189.66069\n",
      "[154]\tvalidation_0-rmse:7300.33474\tvalidation_1-rmse:4143.67781\n",
      "[155]\tvalidation_0-rmse:7230.64764\tvalidation_1-rmse:4099.06617\n",
      "[156]\tvalidation_0-rmse:7161.73627\tvalidation_1-rmse:4056.36205\n",
      "[157]\tvalidation_0-rmse:7093.41496\tvalidation_1-rmse:4013.60762\n",
      "[158]\tvalidation_0-rmse:7025.85457\tvalidation_1-rmse:3973.80382\n",
      "[159]\tvalidation_0-rmse:6958.98186\tvalidation_1-rmse:3933.34308\n",
      "[160]\tvalidation_0-rmse:6892.76232\tvalidation_1-rmse:3894.91310\n",
      "[161]\tvalidation_0-rmse:6827.30782\tvalidation_1-rmse:3859.58945\n",
      "[162]\tvalidation_0-rmse:6762.48021\tvalidation_1-rmse:3823.68057\n",
      "[163]\tvalidation_0-rmse:6698.31238\tvalidation_1-rmse:3789.30714\n",
      "[164]\tvalidation_0-rmse:6634.86422\tvalidation_1-rmse:3757.40088\n",
      "[165]\tvalidation_0-rmse:6572.04084\tvalidation_1-rmse:3725.20201\n",
      "[166]\tvalidation_0-rmse:6509.80222\tvalidation_1-rmse:3694.84065\n",
      "[167]\tvalidation_0-rmse:6448.33195\tvalidation_1-rmse:3666.72212\n",
      "[168]\tvalidation_0-rmse:6387.40537\tvalidation_1-rmse:3638.08077\n",
      "[169]\tvalidation_0-rmse:6327.13143\tvalidation_1-rmse:3611.91264\n",
      "[170]\tvalidation_0-rmse:6267.58703\tvalidation_1-rmse:3586.86571\n",
      "[171]\tvalidation_0-rmse:6208.57565\tvalidation_1-rmse:3563.11229\n",
      "[172]\tvalidation_0-rmse:6150.20771\tvalidation_1-rmse:3541.91814\n",
      "[173]\tvalidation_0-rmse:6092.32289\tvalidation_1-rmse:3519.98853\n",
      "[174]\tvalidation_0-rmse:6035.04561\tvalidation_1-rmse:3498.58736\n",
      "[175]\tvalidation_0-rmse:5978.44236\tvalidation_1-rmse:3479.52581\n",
      "[176]\tvalidation_0-rmse:5922.18126\tvalidation_1-rmse:3459.84683\n",
      "[177]\tvalidation_0-rmse:5866.51391\tvalidation_1-rmse:3441.22856\n",
      "[178]\tvalidation_0-rmse:5811.74413\tvalidation_1-rmse:3427.54637\n",
      "[179]\tvalidation_0-rmse:5757.22704\tvalidation_1-rmse:3411.23148\n",
      "[180]\tvalidation_0-rmse:5703.50786\tvalidation_1-rmse:3397.26734\n",
      "[181]\tvalidation_0-rmse:5650.11765\tvalidation_1-rmse:3383.64093\n",
      "[182]\tvalidation_0-rmse:5597.24719\tvalidation_1-rmse:3371.17817\n",
      "[183]\tvalidation_0-rmse:5545.26400\tvalidation_1-rmse:3362.29213\n",
      "[184]\tvalidation_0-rmse:5493.75302\tvalidation_1-rmse:3352.82546\n",
      "[185]\tvalidation_0-rmse:5442.54910\tvalidation_1-rmse:3343.49587\n",
      "[186]\tvalidation_0-rmse:5392.04864\tvalidation_1-rmse:3336.38712\n",
      "[187]\tvalidation_0-rmse:5341.88837\tvalidation_1-rmse:3329.71614\n",
      "[188]\tvalidation_0-rmse:5292.48697\tvalidation_1-rmse:3324.34546\n",
      "[189]\tvalidation_0-rmse:5243.43562\tvalidation_1-rmse:3319.01443\n",
      "[190]\tvalidation_0-rmse:5194.83367\tvalidation_1-rmse:3314.43898\n",
      "[191]\tvalidation_0-rmse:5146.89162\tvalidation_1-rmse:3311.48965\n",
      "[192]\tvalidation_0-rmse:5099.54375\tvalidation_1-rmse:3309.38140\n",
      "[193]\tvalidation_0-rmse:5052.49757\tvalidation_1-rmse:3307.52076\n",
      "[194]\tvalidation_0-rmse:5005.91851\tvalidation_1-rmse:3307.43014\n"
     ]
    },
    {
     "data": {
      "text/plain": [
       "XGBRegressor(base_score=0.5, booster='gbtree', callbacks=None,\n",
       "             colsample_bylevel=None, colsample_bynode=None,\n",
       "             colsample_bytree=None, early_stopping_rounds=None,\n",
       "             enable_categorical=False, eval_metric=None, feature_types=None,\n",
       "             gamma=None, gpu_id=None, grow_policy=None, importance_type=None,\n",
       "             interaction_constraints=None, learning_rate=0.01, max_bin=None,\n",
       "             max_cat_threshold=None, max_cat_to_onehot=None,\n",
       "             max_delta_step=None, max_depth=7, max_leaves=None,\n",
       "             min_child_weight=None, missing=nan, monotone_constraints=None,\n",
       "             n_estimators=195, n_jobs=None, num_parallel_tree=None,\n",
       "             objective='reg:linear', predictor=None, ...)"
      ]
     },
     "execution_count": 16,
     "metadata": {},
     "output_type": "execute_result"
    }
   ],
   "source": [
    "reg1 =xgb.XGBRegressor(base_score=0.5,\n",
    "                       booster='gbtree',    \n",
    "                       n_estimators=195,\n",
    "                       objective='reg:linear',\n",
    "                       max_depth=7,\n",
    "                       learning_rate=0.01)\n",
    "reg1.fit(X_train1, y_train1,\n",
    "        eval_set=[(X_train1, y_train1), (X_test1, y_test1)],\n",
    "        verbose=1)"
   ]
  },
  {
   "cell_type": "markdown",
   "metadata": {},
   "source": [
    "## Feature Importance"
   ]
  },
  {
   "cell_type": "code",
   "execution_count": 25,
   "metadata": {
    "execution": {
     "iopub.execute_input": "2023-02-16T11:44:17.641432Z",
     "iopub.status.busy": "2023-02-16T11:44:17.641044Z",
     "iopub.status.idle": "2023-02-16T11:44:17.902437Z",
     "shell.execute_reply": "2023-02-16T11:44:17.901013Z",
     "shell.execute_reply.started": "2023-02-16T11:44:17.641397Z"
    }
   },
   "outputs": [
    {
     "data": {
      "image/png": "[encoded data removed]",
      "text/plain": [
       "<Figure size 432x288 with 1 Axes>"
      ]
     },
     "metadata": {
      "needs_background": "light"
     },
     "output_type": "display_data"
    }
   ],
   "source": [
    "fi = pd.DataFrame(data=reg1.feature_importances_,\n",
    "             index=reg1.feature_names_in_,\n",
    "             columns=['importance'])\n",
    "fi.sort_values('importance').plot(kind='barh', title='Feature Importance')\n",
    "plt.show()"
   ]
  },
  {
   "cell_type": "markdown",
   "metadata": {},
   "source": [
    "## Forecast on Test"
   ]
  },
  {
   "cell_type": "code",
   "execution_count": 14,
   "metadata": {
    "execution": {
     "iopub.execute_input": "2023-02-16T11:44:17.904481Z",
     "iopub.status.busy": "2023-02-16T11:44:17.904112Z",
     "iopub.status.idle": "2023-02-16T11:44:18.877768Z",
     "shell.execute_reply": "2023-02-16T11:44:18.876626Z",
     "shell.execute_reply.started": "2023-02-16T11:44:17.904450Z"
    }
   },
   "outputs": [
    {
     "data": {
      "image/png": "[encoded data removed]",
      "text/plain": [
       "<Figure size 1080x360 with 1 Axes>"
      ]
     },
     "metadata": {
      "needs_background": "light"
     },
     "output_type": "display_data"
    }
   ],
   "source": [
    "df1 = df.copy()\n",
    "df_test1 = df_test.copy()\n",
    "df_test1['prediction'] = reg1.predict(X_test1)\n",
    "df1 = df1.merge(df_test1[['prediction']], how='left', left_index=True, right_index=True)\n",
    "ax = df1[['PowerConsumption_Zone1']].plot(figsize=(15, 5))\n",
    "df1['prediction'].plot(ax=ax, style='.')\n",
    "plt.legend(['Truth Data', 'Predictions'])\n",
    "ax.set_title('Raw Dat and Prediction')\n",
    "plt.show()"
   ]
  },
  {
   "cell_type": "code",
   "execution_count": 27,
   "metadata": {},
   "outputs": [],
   "source": [
    "import xgboost as xgb\n",
    "from sklearn.model_selection import GridSearchCV\n",
    "from sklearn.model_selection import train_test_split\n",
    "from sklearn.metrics import mean_squared_error"
   ]
  },
  {
   "cell_type": "code",
   "execution_count": 29,
   "metadata": {},
   "outputs": [],
   "source": [
    "X_train1 = df[FEATURES]\n",
    "y_train1 = df[TARGET1]\n",
    "X_train, X_test, y_train, y_test = train_test_split(X_train1, y_train1, test_size=0.2, random_state=42)\n"
   ]
  },
  {
   "cell_type": "code",
   "execution_count": 31,
   "metadata": {},
   "outputs": [
    {
     "data": {
      "text/plain": [
       "array([1, 2, 3, 4, 5, 6, 7, 8, 9])"
      ]
     },
     "execution_count": 31,
     "metadata": {},
     "output_type": "execute_result"
    }
   ],
   "source": [
    "np.arange(1,10)"
   ]
  },
  {
   "cell_type": "code",
   "execution_count": 33,
   "metadata": {},
   "outputs": [
    {
     "data": {
      "text/plain": [
       "array([0.  , 0.01, 0.02, 0.03, 0.04, 0.05, 0.06, 0.07, 0.08, 0.09, 0.1 ])"
      ]
     },
     "execution_count": 33,
     "metadata": {},
     "output_type": "execute_result"
    }
   ],
   "source": [
    "np.arange(0,0.11, 0.01)"
   ]
  },
  {
   "cell_type": "code",
   "execution_count": 34,
   "metadata": {},
   "outputs": [
    {
     "name": "stderr",
     "output_type": "stream",
     "text": [
      "\n",
      "KeyboardInterrupt\n",
      "\n"
     ]
    }
   ],
   "source": [
    "model = xgb.XGBRegressor()\n",
    "\n",
    "# Définir les hyperparamètres à rechercher\n",
    "param_grid = {\n",
    "    'max_depth': np.arange(1,15),\n",
    "    'learning_rate': np.arange(0,0.11, 0.01),\n",
    "    'n_estimators': np.arange(1000, 10001),\n",
    "    }\n",
    "\n",
    "# Créer l'objet GridSearchCV avec le modèle, les hyperparamètres et la métrique à optimiser (par exemple, MSE)\n",
    "grid_search = GridSearchCV(estimator=model, param_grid=param_grid, scoring='neg_mean_squared_error', cv=5)\n",
    "\n",
    "# Effectuer la recherche des hyperparamètres optimaux\n",
    "grid_search.fit(X_train, y_train)\n",
    "\n",
    "# Afficher les meilleurs hyperparamètres trouvés\n",
    "print(\"Meilleurs hyperparamètres : \", grid_search.best_params_)"
   ]
  },
  {
   "cell_type": "code",
   "execution_count": 15,
   "metadata": {
    "execution": {
     "iopub.execute_input": "2023-02-16T11:44:18.880096Z",
     "iopub.status.busy": "2023-02-16T11:44:18.879701Z",
     "iopub.status.idle": "2023-02-16T11:52:21.382505Z",
     "shell.execute_reply": "2023-02-16T11:52:21.381457Z",
     "shell.execute_reply.started": "2023-02-16T11:44:18.880063Z"
    }
   },
   "outputs": [
    {
     "name": "stdout",
     "output_type": "stream",
     "text": [
      "[11:44:18] WARNING: ../src/objective/regression_obj.cu:203: reg:linear is now deprecated in favor of reg:squarederror.\n",
      "[0]\tvalidation_0-rmse:32768.25907\n",
      "[100]\tvalidation_0-rmse:12122.25450\n",
      "[200]\tvalidation_0-rmse:4614.87563\n",
      "[300]\tvalidation_0-rmse:1954.24282\n",
      "[400]\tvalidation_0-rmse:1086.28611\n",
      "[500]\tvalidation_0-rmse:834.96819\n",
      "[600]\tvalidation_0-rmse:747.14059\n",
      "[700]\tvalidation_0-rmse:702.87073\n",
      "[800]\tvalidation_0-rmse:678.80683\n",
      "[900]\tvalidation_0-rmse:657.06346\n",
      "[1000]\tvalidation_0-rmse:641.43814\n",
      "[1100]\tvalidation_0-rmse:626.84214\n",
      "[1200]\tvalidation_0-rmse:613.65019\n",
      "[1300]\tvalidation_0-rmse:600.29454\n",
      "[1400]\tvalidation_0-rmse:588.49852\n",
      "[1500]\tvalidation_0-rmse:576.33965\n",
      "[1600]\tvalidation_0-rmse:563.69292\n",
      "[1700]\tvalidation_0-rmse:551.97145\n",
      "[1800]\tvalidation_0-rmse:540.74847\n",
      "[1900]\tvalidation_0-rmse:529.87116\n",
      "[2000]\tvalidation_0-rmse:519.69583\n",
      "[2100]\tvalidation_0-rmse:509.84444\n",
      "[2200]\tvalidation_0-rmse:500.64640\n",
      "[2300]\tvalidation_0-rmse:491.77521\n",
      "[2400]\tvalidation_0-rmse:482.74544\n",
      "[2500]\tvalidation_0-rmse:473.44104\n",
      "[2600]\tvalidation_0-rmse:465.08573\n",
      "[2700]\tvalidation_0-rmse:459.70422\n",
      "[2800]\tvalidation_0-rmse:453.09953\n",
      "[2900]\tvalidation_0-rmse:444.14114\n",
      "[3000]\tvalidation_0-rmse:435.79790\n",
      "[3100]\tvalidation_0-rmse:430.11084\n",
      "[3200]\tvalidation_0-rmse:422.66530\n",
      "[3300]\tvalidation_0-rmse:418.46741\n",
      "[3400]\tvalidation_0-rmse:410.56928\n",
      "[3500]\tvalidation_0-rmse:402.38523\n",
      "[3600]\tvalidation_0-rmse:395.44106\n",
      "[3700]\tvalidation_0-rmse:388.94845\n",
      "[3800]\tvalidation_0-rmse:382.48006\n",
      "[3900]\tvalidation_0-rmse:375.78867\n",
      "[4000]\tvalidation_0-rmse:368.75959\n",
      "[4100]\tvalidation_0-rmse:365.00439\n",
      "[4200]\tvalidation_0-rmse:360.02081\n",
      "[4300]\tvalidation_0-rmse:352.70718\n",
      "[4400]\tvalidation_0-rmse:347.83202\n",
      "[4500]\tvalidation_0-rmse:343.12319\n",
      "[4600]\tvalidation_0-rmse:337.43900\n",
      "[4700]\tvalidation_0-rmse:331.35060\n",
      "[4800]\tvalidation_0-rmse:327.94528\n",
      "[4900]\tvalidation_0-rmse:323.81362\n",
      "[5000]\tvalidation_0-rmse:319.77592\n",
      "[5100]\tvalidation_0-rmse:315.14915\n",
      "[5200]\tvalidation_0-rmse:311.33254\n",
      "[5300]\tvalidation_0-rmse:307.09224\n",
      "[5400]\tvalidation_0-rmse:302.43465\n",
      "[5500]\tvalidation_0-rmse:298.19834\n",
      "[5600]\tvalidation_0-rmse:293.72388\n",
      "[5700]\tvalidation_0-rmse:288.72287\n",
      "[5800]\tvalidation_0-rmse:284.42417\n",
      "[5900]\tvalidation_0-rmse:279.44901\n",
      "[6000]\tvalidation_0-rmse:276.08348\n",
      "[6100]\tvalidation_0-rmse:272.78777\n",
      "[6200]\tvalidation_0-rmse:269.49682\n",
      "[6300]\tvalidation_0-rmse:265.99704\n",
      "[6400]\tvalidation_0-rmse:262.87384\n",
      "[6500]\tvalidation_0-rmse:260.01738\n",
      "[6600]\tvalidation_0-rmse:256.69398\n",
      "[6700]\tvalidation_0-rmse:253.97497\n",
      "[6800]\tvalidation_0-rmse:250.52716\n",
      "[6900]\tvalidation_0-rmse:246.91912\n",
      "[7000]\tvalidation_0-rmse:243.50390\n",
      "[7100]\tvalidation_0-rmse:241.13746\n",
      "[7200]\tvalidation_0-rmse:237.81170\n",
      "[7300]\tvalidation_0-rmse:233.91304\n",
      "[7400]\tvalidation_0-rmse:228.89865\n",
      "[7500]\tvalidation_0-rmse:225.19018\n",
      "[7600]\tvalidation_0-rmse:222.63560\n",
      "[7700]\tvalidation_0-rmse:220.36484\n",
      "[7800]\tvalidation_0-rmse:218.38716\n",
      "[7900]\tvalidation_0-rmse:216.16078\n",
      "[8000]\tvalidation_0-rmse:213.90094\n",
      "[8100]\tvalidation_0-rmse:211.74469\n",
      "[8200]\tvalidation_0-rmse:209.79888\n",
      "[8300]\tvalidation_0-rmse:208.02273\n",
      "[8400]\tvalidation_0-rmse:205.57035\n",
      "[8500]\tvalidation_0-rmse:203.14190\n",
      "[8600]\tvalidation_0-rmse:201.66792\n",
      "[8700]\tvalidation_0-rmse:199.41910\n",
      "[8800]\tvalidation_0-rmse:196.79139\n",
      "[8900]\tvalidation_0-rmse:195.03597\n",
      "[9000]\tvalidation_0-rmse:193.28783\n",
      "[9100]\tvalidation_0-rmse:191.86883\n",
      "[9200]\tvalidation_0-rmse:190.44664\n",
      "[9300]\tvalidation_0-rmse:188.71786\n",
      "[9400]\tvalidation_0-rmse:186.82434\n",
      "[9500]\tvalidation_0-rmse:184.78771\n",
      "[9600]\tvalidation_0-rmse:182.52986\n",
      "[9700]\tvalidation_0-rmse:180.77923\n",
      "[9800]\tvalidation_0-rmse:178.69877\n",
      "[9900]\tvalidation_0-rmse:176.14825\n",
      "[9999]\tvalidation_0-rmse:172.49906\n"
     ]
    },
    {
     "data": {
      "text/plain": [
       "XGBRegressor(base_score=0.5, booster='gbtree', callbacks=None,\n",
       "             colsample_bylevel=1, colsample_bynode=1, colsample_bytree=1,\n",
       "             early_stopping_rounds=None, enable_categorical=False,\n",
       "             eval_metric=None, gamma=0, gpu_id=-1, grow_policy='depthwise',\n",
       "             importance_type=None, interaction_constraints='',\n",
       "             learning_rate=0.01, max_bin=256, max_cat_to_onehot=4,\n",
       "             max_delta_step=0, max_depth=10, max_leaves=0, min_child_weight=1,\n",
       "             missing=nan, monotone_constraints='()', n_estimators=10000,\n",
       "             n_jobs=0, num_parallel_tree=1, objective='reg:linear',\n",
       "             predictor='auto', random_state=0, reg_alpha=0, ...)"
      ]
     },
     "execution_count": 15,
     "metadata": {},
     "output_type": "execute_result"
    }
   ],
   "source": [
    "X_all1 = df1[FEATURES]\n",
    "y_all1 = df1[TARGET1]\n",
    "\n",
    "reg1 = xgb.XGBRegressor(base_score=0.5,\n",
    "                       booster='gbtree',    \n",
    "                       n_estimators=10000,\n",
    "                       objective='reg:linear',\n",
    "                       max_depth=10,\n",
    "                       learning_rate=0.01)\n",
    "reg1.fit(X_all1, y_all1,\n",
    "        eval_set=[(X_all1, y_all1)],\n",
    "        verbose=100)"
   ]
  },
  {
   "cell_type": "markdown",
   "metadata": {},
   "source": [
    "## Create our Model for PowerConsumption_Zone2"
   ]
  },
  {
   "cell_type": "code",
   "execution_count": 16,
   "metadata": {
    "execution": {
     "iopub.execute_input": "2023-02-16T11:52:21.384540Z",
     "iopub.status.busy": "2023-02-16T11:52:21.384161Z",
     "iopub.status.idle": "2023-02-16T11:52:21.395750Z",
     "shell.execute_reply": "2023-02-16T11:52:21.394123Z",
     "shell.execute_reply.started": "2023-02-16T11:52:21.384509Z"
    }
   },
   "outputs": [],
   "source": [
    "TARGET2 = 'PowerConsumption_Zone2'\n",
    "\n",
    "X_train2 = df_train[FEATURES]\n",
    "y_train2 = df_train[TARGET2]\n",
    "\n",
    "X_test2 = df_test[FEATURES]\n",
    "y_test2 = df_test[TARGET2]"
   ]
  },
  {
   "cell_type": "code",
   "execution_count": 17,
   "metadata": {
    "execution": {
     "iopub.execute_input": "2023-02-16T11:52:21.398091Z",
     "iopub.status.busy": "2023-02-16T11:52:21.397571Z",
     "iopub.status.idle": "2023-02-16T11:52:31.476501Z",
     "shell.execute_reply": "2023-02-16T11:52:31.475050Z",
     "shell.execute_reply.started": "2023-02-16T11:52:21.398033Z"
    }
   },
   "outputs": [
    {
     "name": "stdout",
     "output_type": "stream",
     "text": [
      "[11:52:21] WARNING: ../src/objective/regression_obj.cu:203: reg:linear is now deprecated in favor of reg:squarederror.\n",
      "[0]\tvalidation_0-rmse:20897.03540\tvalidation_1-rmse:22448.06651\n",
      "[1]\tvalidation_0-rmse:20689.65207\tvalidation_1-rmse:22199.36337\n",
      "[2]\tvalidation_0-rmse:20484.35273\tvalidation_1-rmse:21951.83739\n",
      "[3]\tvalidation_0-rmse:20281.11102\tvalidation_1-rmse:21707.91433\n",
      "[4]\tvalidation_0-rmse:20079.91933\tvalidation_1-rmse:21465.22300\n",
      "[5]\tvalidation_0-rmse:19880.73786\tvalidation_1-rmse:21226.23020\n",
      "[6]\tvalidation_0-rmse:19683.56329\tvalidation_1-rmse:20988.44188\n",
      "[7]\tvalidation_0-rmse:19488.37425\tvalidation_1-rmse:20754.29180\n",
      "[8]\tvalidation_0-rmse:19295.14641\tvalidation_1-rmse:20521.30579\n",
      "[9]\tvalidation_0-rmse:19103.85892\tvalidation_1-rmse:20291.89791\n",
      "[10]\tvalidation_0-rmse:18914.49557\tvalidation_1-rmse:20063.62069\n",
      "[11]\tvalidation_0-rmse:18727.02730\tvalidation_1-rmse:19838.71669\n",
      "[12]\tvalidation_0-rmse:18541.44582\tvalidation_1-rmse:19619.08920\n",
      "[13]\tvalidation_0-rmse:18357.73051\tvalidation_1-rmse:19400.68263\n",
      "[14]\tvalidation_0-rmse:18175.85581\tvalidation_1-rmse:19185.51976\n",
      "[15]\tvalidation_0-rmse:17995.83239\tvalidation_1-rmse:18977.82182\n",
      "[16]\tvalidation_0-rmse:17817.61375\tvalidation_1-rmse:18769.85071\n",
      "[17]\tvalidation_0-rmse:17641.18658\tvalidation_1-rmse:18565.26635\n",
      "[18]\tvalidation_0-rmse:17466.54395\tvalidation_1-rmse:18361.21193\n",
      "[19]\tvalidation_0-rmse:17293.63260\tvalidation_1-rmse:18166.25486\n",
      "[20]\tvalidation_0-rmse:17122.47879\tvalidation_1-rmse:17965.13057\n",
      "[21]\tvalidation_0-rmse:16953.03774\tvalidation_1-rmse:17774.97480\n",
      "[22]\tvalidation_0-rmse:16785.29520\tvalidation_1-rmse:17586.21154\n",
      "[23]\tvalidation_0-rmse:16619.25036\tvalidation_1-rmse:17391.62680\n",
      "[24]\tvalidation_0-rmse:16454.86054\tvalidation_1-rmse:17206.10699\n",
      "[25]\tvalidation_0-rmse:16292.14568\tvalidation_1-rmse:17017.99032\n",
      "[26]\tvalidation_0-rmse:16131.04681\tvalidation_1-rmse:16838.68542\n",
      "[27]\tvalidation_0-rmse:15971.58139\tvalidation_1-rmse:16661.21192\n",
      "[28]\tvalidation_0-rmse:15813.72135\tvalidation_1-rmse:16477.93023\n",
      "[29]\tvalidation_0-rmse:15657.44008\tvalidation_1-rmse:16308.93565\n",
      "[30]\tvalidation_0-rmse:15502.71862\tvalidation_1-rmse:16141.62835\n",
      "[31]\tvalidation_0-rmse:15349.55337\tvalidation_1-rmse:15963.52964\n",
      "[32]\tvalidation_0-rmse:15197.93415\tvalidation_1-rmse:15797.56386\n",
      "[33]\tvalidation_0-rmse:15047.84551\tvalidation_1-rmse:15622.43247\n",
      "[34]\tvalidation_0-rmse:14899.24590\tvalidation_1-rmse:15461.76791\n",
      "[35]\tvalidation_0-rmse:14752.13979\tvalidation_1-rmse:15290.83425\n",
      "[36]\tvalidation_0-rmse:14606.52033\tvalidation_1-rmse:15131.73283\n",
      "[37]\tvalidation_0-rmse:14462.25465\tvalidation_1-rmse:14975.41412\n",
      "[38]\tvalidation_0-rmse:14319.52172\tvalidation_1-rmse:14811.08535\n",
      "[39]\tvalidation_0-rmse:14178.13919\tvalidation_1-rmse:14655.94333\n",
      "[40]\tvalidation_0-rmse:14038.16662\tvalidation_1-rmse:14493.38614\n",
      "[41]\tvalidation_0-rmse:13899.61439\tvalidation_1-rmse:14340.97742\n",
      "[42]\tvalidation_0-rmse:13762.46994\tvalidation_1-rmse:14188.08319\n",
      "[43]\tvalidation_0-rmse:13626.66784\tvalidation_1-rmse:14030.51454\n",
      "[44]\tvalidation_0-rmse:13492.25418\tvalidation_1-rmse:13881.06484\n",
      "[45]\tvalidation_0-rmse:13359.15116\tvalidation_1-rmse:13726.73523\n",
      "[46]\tvalidation_0-rmse:13227.42803\tvalidation_1-rmse:13582.29656\n",
      "[47]\tvalidation_0-rmse:13097.01000\tvalidation_1-rmse:13437.34589\n",
      "[48]\tvalidation_0-rmse:12967.86765\tvalidation_1-rmse:13287.53647\n",
      "[49]\tvalidation_0-rmse:12840.03299\tvalidation_1-rmse:13150.16913\n",
      "[50]\tvalidation_0-rmse:12713.49425\tvalidation_1-rmse:13012.95340\n",
      "[51]\tvalidation_0-rmse:12588.22207\tvalidation_1-rmse:12867.36429\n",
      "[52]\tvalidation_0-rmse:12464.16100\tvalidation_1-rmse:12738.34563\n",
      "[53]\tvalidation_0-rmse:12341.45354\tvalidation_1-rmse:12605.84115\n",
      "[54]\tvalidation_0-rmse:12219.95470\tvalidation_1-rmse:12464.21733\n",
      "[55]\tvalidation_0-rmse:12099.64950\tvalidation_1-rmse:12336.89049\n",
      "[56]\tvalidation_0-rmse:11980.51588\tvalidation_1-rmse:12207.14850\n",
      "[57]\tvalidation_0-rmse:11862.63182\tvalidation_1-rmse:12071.90326\n",
      "[58]\tvalidation_0-rmse:11745.88145\tvalidation_1-rmse:11949.73916\n",
      "[59]\tvalidation_0-rmse:11630.35497\tvalidation_1-rmse:11823.39938\n",
      "[60]\tvalidation_0-rmse:11515.97750\tvalidation_1-rmse:11700.92714\n",
      "[61]\tvalidation_0-rmse:11402.76524\tvalidation_1-rmse:11571.03521\n",
      "[62]\tvalidation_0-rmse:11290.66428\tvalidation_1-rmse:11454.47979\n",
      "[63]\tvalidation_0-rmse:11179.65571\tvalidation_1-rmse:11336.14153\n",
      "[64]\tvalidation_0-rmse:11069.82886\tvalidation_1-rmse:11210.16519\n",
      "[65]\tvalidation_0-rmse:10961.06695\tvalidation_1-rmse:11094.26286\n",
      "[66]\tvalidation_0-rmse:10853.43883\tvalidation_1-rmse:10971.91020\n",
      "[67]\tvalidation_0-rmse:10746.81434\tvalidation_1-rmse:10862.60538\n",
      "[68]\tvalidation_0-rmse:10641.30064\tvalidation_1-rmse:10749.26599\n",
      "[69]\tvalidation_0-rmse:10536.86140\tvalidation_1-rmse:10639.06153\n",
      "[70]\tvalidation_0-rmse:10433.52048\tvalidation_1-rmse:10519.63300\n",
      "[71]\tvalidation_0-rmse:10331.12901\tvalidation_1-rmse:10414.48997\n",
      "[72]\tvalidation_0-rmse:10229.87742\tvalidation_1-rmse:10303.36641\n",
      "[73]\tvalidation_0-rmse:10129.55092\tvalidation_1-rmse:10197.94839\n",
      "[74]\tvalidation_0-rmse:10030.24180\tvalidation_1-rmse:10094.77673\n",
      "[75]\tvalidation_0-rmse:9931.98510\tvalidation_1-rmse:9983.18373\n",
      "[76]\tvalidation_0-rmse:9834.66511\tvalidation_1-rmse:9883.27988\n",
      "[77]\tvalidation_0-rmse:9738.35029\tvalidation_1-rmse:9783.58966\n",
      "[78]\tvalidation_0-rmse:9643.00031\tvalidation_1-rmse:9683.69517\n",
      "[79]\tvalidation_0-rmse:9548.55129\tvalidation_1-rmse:9578.17192\n",
      "[80]\tvalidation_0-rmse:9455.08363\tvalidation_1-rmse:9474.03802\n",
      "[81]\tvalidation_0-rmse:9362.54371\tvalidation_1-rmse:9378.72394\n",
      "[82]\tvalidation_0-rmse:9270.93659\tvalidation_1-rmse:9275.83145\n",
      "[83]\tvalidation_0-rmse:9180.25776\tvalidation_1-rmse:9181.56502\n",
      "[84]\tvalidation_0-rmse:9090.51362\tvalidation_1-rmse:9086.90021\n",
      "[85]\tvalidation_0-rmse:9001.61535\tvalidation_1-rmse:8993.76320\n",
      "[86]\tvalidation_0-rmse:8913.67791\tvalidation_1-rmse:8894.65479\n",
      "[87]\tvalidation_0-rmse:8826.63444\tvalidation_1-rmse:8805.63644\n",
      "[88]\tvalidation_0-rmse:8740.44995\tvalidation_1-rmse:8714.04353\n",
      "[89]\tvalidation_0-rmse:8655.16541\tvalidation_1-rmse:8624.28647\n",
      "[90]\tvalidation_0-rmse:8570.64819\tvalidation_1-rmse:8537.47061\n",
      "[91]\tvalidation_0-rmse:8487.08269\tvalidation_1-rmse:8445.59514\n",
      "[92]\tvalidation_0-rmse:8404.25491\tvalidation_1-rmse:8359.39915\n",
      "[93]\tvalidation_0-rmse:8322.33523\tvalidation_1-rmse:8275.72863\n",
      "[94]\tvalidation_0-rmse:8241.17350\tvalidation_1-rmse:8190.63726\n",
      "[95]\tvalidation_0-rmse:8160.85212\tvalidation_1-rmse:8107.55477\n",
      "[96]\tvalidation_0-rmse:8081.32983\tvalidation_1-rmse:8023.98800\n",
      "[97]\tvalidation_0-rmse:8002.72766\tvalidation_1-rmse:7941.16129\n",
      "[98]\tvalidation_0-rmse:7924.85161\tvalidation_1-rmse:7862.91655\n",
      "[99]\tvalidation_0-rmse:7847.77316\tvalidation_1-rmse:7781.27983\n",
      "[100]\tvalidation_0-rmse:7771.55318\tvalidation_1-rmse:7704.67565\n",
      "[101]\tvalidation_0-rmse:7696.01648\tvalidation_1-rmse:7630.14106\n",
      "[102]\tvalidation_0-rmse:7621.26849\tvalidation_1-rmse:7554.57223\n",
      "[103]\tvalidation_0-rmse:7547.25243\tvalidation_1-rmse:7480.53787\n",
      "[104]\tvalidation_0-rmse:7473.97685\tvalidation_1-rmse:7408.19410\n",
      "[105]\tvalidation_0-rmse:7401.48489\tvalidation_1-rmse:7335.43973\n",
      "[106]\tvalidation_0-rmse:7329.63962\tvalidation_1-rmse:7263.96989\n",
      "[107]\tvalidation_0-rmse:7258.55742\tvalidation_1-rmse:7195.39189\n",
      "[108]\tvalidation_0-rmse:7188.20967\tvalidation_1-rmse:7125.73320\n",
      "[109]\tvalidation_0-rmse:7118.58271\tvalidation_1-rmse:7053.13702\n",
      "[110]\tvalidation_0-rmse:7049.63028\tvalidation_1-rmse:6986.51103\n",
      "[111]\tvalidation_0-rmse:6981.42047\tvalidation_1-rmse:6920.71717\n",
      "[112]\tvalidation_0-rmse:6913.84843\tvalidation_1-rmse:6855.14050\n",
      "[113]\tvalidation_0-rmse:6847.00921\tvalidation_1-rmse:6789.53828\n",
      "[114]\tvalidation_0-rmse:6780.80478\tvalidation_1-rmse:6726.29596\n",
      "[115]\tvalidation_0-rmse:6715.34672\tvalidation_1-rmse:6659.56932\n",
      "[116]\tvalidation_0-rmse:6650.54158\tvalidation_1-rmse:6593.52797\n",
      "[117]\tvalidation_0-rmse:6586.36021\tvalidation_1-rmse:6532.43322\n",
      "[118]\tvalidation_0-rmse:6522.80407\tvalidation_1-rmse:6470.95346\n",
      "[119]\tvalidation_0-rmse:6459.94692\tvalidation_1-rmse:6410.52436\n",
      "[120]\tvalidation_0-rmse:6397.67726\tvalidation_1-rmse:6345.05968\n",
      "[121]\tvalidation_0-rmse:6336.03823\tvalidation_1-rmse:6285.65532\n",
      "[122]\tvalidation_0-rmse:6275.03479\tvalidation_1-rmse:6221.90646\n",
      "[123]\tvalidation_0-rmse:6214.57870\tvalidation_1-rmse:6163.83870\n",
      "[124]\tvalidation_0-rmse:6154.81314\tvalidation_1-rmse:6101.56957\n",
      "[125]\tvalidation_0-rmse:6095.60583\tvalidation_1-rmse:6040.34206\n",
      "[126]\tvalidation_0-rmse:6037.05665\tvalidation_1-rmse:5979.24797\n",
      "[127]\tvalidation_0-rmse:5979.15566\tvalidation_1-rmse:5924.26570\n",
      "[128]\tvalidation_0-rmse:5921.75039\tvalidation_1-rmse:5865.55801\n",
      "[129]\tvalidation_0-rmse:5864.87431\tvalidation_1-rmse:5811.48680\n",
      "[130]\tvalidation_0-rmse:5808.75476\tvalidation_1-rmse:5757.22492\n",
      "[131]\tvalidation_0-rmse:5753.09720\tvalidation_1-rmse:5701.71324\n",
      "[132]\tvalidation_0-rmse:5697.99061\tvalidation_1-rmse:5647.50828\n",
      "[133]\tvalidation_0-rmse:5643.55406\tvalidation_1-rmse:5595.19337\n",
      "[134]\tvalidation_0-rmse:5589.65478\tvalidation_1-rmse:5541.81835\n",
      "[135]\tvalidation_0-rmse:5536.21327\tvalidation_1-rmse:5490.79498\n",
      "[136]\tvalidation_0-rmse:5483.32544\tvalidation_1-rmse:5439.49755\n",
      "[137]\tvalidation_0-rmse:5430.98387\tvalidation_1-rmse:5390.05207\n",
      "[138]\tvalidation_0-rmse:5379.19534\tvalidation_1-rmse:5340.68180\n",
      "[139]\tvalidation_0-rmse:5327.93631\tvalidation_1-rmse:5292.05976\n",
      "[140]\tvalidation_0-rmse:5277.14343\tvalidation_1-rmse:5246.48529\n",
      "[141]\tvalidation_0-rmse:5227.02696\tvalidation_1-rmse:5199.34241\n",
      "[142]\tvalidation_0-rmse:5177.30247\tvalidation_1-rmse:5156.52793\n",
      "[143]\tvalidation_0-rmse:5128.10985\tvalidation_1-rmse:5109.19017\n",
      "[144]\tvalidation_0-rmse:5079.46343\tvalidation_1-rmse:5064.98033\n",
      "[145]\tvalidation_0-rmse:5031.23286\tvalidation_1-rmse:5020.34425\n",
      "[146]\tvalidation_0-rmse:4983.48637\tvalidation_1-rmse:4978.57496\n",
      "[147]\tvalidation_0-rmse:4936.27003\tvalidation_1-rmse:4937.08380\n",
      "[148]\tvalidation_0-rmse:4889.55232\tvalidation_1-rmse:4894.91374\n",
      "[149]\tvalidation_0-rmse:4843.36373\tvalidation_1-rmse:4852.73148\n",
      "[150]\tvalidation_0-rmse:4797.53396\tvalidation_1-rmse:4813.06310\n",
      "[151]\tvalidation_0-rmse:4752.14897\tvalidation_1-rmse:4775.30345\n",
      "[152]\tvalidation_0-rmse:4707.25290\tvalidation_1-rmse:4738.05604\n",
      "[153]\tvalidation_0-rmse:4662.90048\tvalidation_1-rmse:4700.28852\n",
      "[154]\tvalidation_0-rmse:4618.93646\tvalidation_1-rmse:4661.16616\n",
      "[155]\tvalidation_0-rmse:4575.40778\tvalidation_1-rmse:4625.54757\n",
      "[156]\tvalidation_0-rmse:4532.33152\tvalidation_1-rmse:4590.43613\n",
      "[157]\tvalidation_0-rmse:4489.77517\tvalidation_1-rmse:4555.34881\n",
      "[158]\tvalidation_0-rmse:4447.57093\tvalidation_1-rmse:4521.19839\n",
      "[159]\tvalidation_0-rmse:4405.83844\tvalidation_1-rmse:4488.20744\n",
      "[160]\tvalidation_0-rmse:4364.52542\tvalidation_1-rmse:4455.96188\n",
      "[161]\tvalidation_0-rmse:4323.55602\tvalidation_1-rmse:4424.29202\n",
      "[162]\tvalidation_0-rmse:4283.17155\tvalidation_1-rmse:4393.37890\n",
      "[163]\tvalidation_0-rmse:4243.10522\tvalidation_1-rmse:4359.23462\n",
      "[164]\tvalidation_0-rmse:4203.40023\tvalidation_1-rmse:4328.62227\n",
      "[165]\tvalidation_0-rmse:4164.25813\tvalidation_1-rmse:4298.45680\n",
      "[166]\tvalidation_0-rmse:4125.53960\tvalidation_1-rmse:4268.52402\n",
      "[167]\tvalidation_0-rmse:4087.13076\tvalidation_1-rmse:4239.08294\n",
      "[168]\tvalidation_0-rmse:4049.21241\tvalidation_1-rmse:4209.99507\n",
      "[169]\tvalidation_0-rmse:4011.58114\tvalidation_1-rmse:4181.34909\n",
      "[170]\tvalidation_0-rmse:3974.33041\tvalidation_1-rmse:4152.94603\n",
      "[171]\tvalidation_0-rmse:3937.56229\tvalidation_1-rmse:4125.77928\n",
      "[172]\tvalidation_0-rmse:3901.14284\tvalidation_1-rmse:4097.84691\n",
      "[173]\tvalidation_0-rmse:3865.05422\tvalidation_1-rmse:4070.17472\n",
      "[174]\tvalidation_0-rmse:3829.40606\tvalidation_1-rmse:4044.40830\n",
      "[175]\tvalidation_0-rmse:3794.06969\tvalidation_1-rmse:4018.28005\n",
      "[176]\tvalidation_0-rmse:3759.19818\tvalidation_1-rmse:3992.52784\n",
      "[177]\tvalidation_0-rmse:3724.57637\tvalidation_1-rmse:3967.78334\n",
      "[178]\tvalidation_0-rmse:3690.32346\tvalidation_1-rmse:3941.14519\n",
      "[179]\tvalidation_0-rmse:3656.56551\tvalidation_1-rmse:3917.17197\n",
      "[180]\tvalidation_0-rmse:3623.02727\tvalidation_1-rmse:3888.89282\n",
      "[181]\tvalidation_0-rmse:3589.84578\tvalidation_1-rmse:3863.61799\n",
      "[182]\tvalidation_0-rmse:3556.96157\tvalidation_1-rmse:3840.50042\n",
      "[183]\tvalidation_0-rmse:3524.53569\tvalidation_1-rmse:3817.26778\n",
      "[184]\tvalidation_0-rmse:3492.23707\tvalidation_1-rmse:3791.76487\n",
      "[185]\tvalidation_0-rmse:3460.40133\tvalidation_1-rmse:3769.88245\n",
      "[186]\tvalidation_0-rmse:3428.96456\tvalidation_1-rmse:3747.20810\n",
      "[187]\tvalidation_0-rmse:3397.78684\tvalidation_1-rmse:3725.47363\n",
      "[188]\tvalidation_0-rmse:3367.00119\tvalidation_1-rmse:3703.31446\n",
      "[189]\tvalidation_0-rmse:3336.50575\tvalidation_1-rmse:3684.07503\n",
      "[190]\tvalidation_0-rmse:3306.48134\tvalidation_1-rmse:3665.81137\n",
      "[191]\tvalidation_0-rmse:3276.48992\tvalidation_1-rmse:3647.40107\n",
      "[192]\tvalidation_0-rmse:3246.96967\tvalidation_1-rmse:3626.93952\n",
      "[193]\tvalidation_0-rmse:3217.76519\tvalidation_1-rmse:3606.56961\n",
      "[194]\tvalidation_0-rmse:3188.71646\tvalidation_1-rmse:3587.64651\n",
      "[195]\tvalidation_0-rmse:3160.14965\tvalidation_1-rmse:3568.25692\n",
      "[196]\tvalidation_0-rmse:3132.03377\tvalidation_1-rmse:3549.91098\n",
      "[197]\tvalidation_0-rmse:3104.05463\tvalidation_1-rmse:3532.45988\n",
      "[198]\tvalidation_0-rmse:3076.23911\tvalidation_1-rmse:3514.87166\n",
      "[199]\tvalidation_0-rmse:3048.81790\tvalidation_1-rmse:3499.62673\n",
      "[200]\tvalidation_0-rmse:3021.70259\tvalidation_1-rmse:3481.21684\n",
      "[201]\tvalidation_0-rmse:2995.03345\tvalidation_1-rmse:3467.52049\n",
      "[202]\tvalidation_0-rmse:2968.52175\tvalidation_1-rmse:3450.04510\n",
      "[203]\tvalidation_0-rmse:2942.21978\tvalidation_1-rmse:3435.20224\n",
      "[204]\tvalidation_0-rmse:2916.11469\tvalidation_1-rmse:3421.29788\n",
      "[205]\tvalidation_0-rmse:2890.54119\tvalidation_1-rmse:3404.74690\n",
      "[206]\tvalidation_0-rmse:2865.14700\tvalidation_1-rmse:3388.23195\n",
      "[207]\tvalidation_0-rmse:2839.99541\tvalidation_1-rmse:3374.07811\n",
      "[208]\tvalidation_0-rmse:2815.17847\tvalidation_1-rmse:3358.43779\n",
      "[209]\tvalidation_0-rmse:2790.64589\tvalidation_1-rmse:3342.90462\n",
      "[210]\tvalidation_0-rmse:2766.43600\tvalidation_1-rmse:3332.56439\n",
      "[211]\tvalidation_0-rmse:2742.33839\tvalidation_1-rmse:3319.23795\n",
      "[212]\tvalidation_0-rmse:2718.58447\tvalidation_1-rmse:3304.47568\n",
      "[213]\tvalidation_0-rmse:2694.99364\tvalidation_1-rmse:3290.09442\n",
      "[214]\tvalidation_0-rmse:2671.76669\tvalidation_1-rmse:3275.98273\n",
      "[215]\tvalidation_0-rmse:2648.55012\tvalidation_1-rmse:3263.95503\n",
      "[216]\tvalidation_0-rmse:2625.49509\tvalidation_1-rmse:3251.88860\n",
      "[217]\tvalidation_0-rmse:2603.03394\tvalidation_1-rmse:3239.40542\n",
      "[218]\tvalidation_0-rmse:2580.85146\tvalidation_1-rmse:3228.45287\n",
      "[219]\tvalidation_0-rmse:2558.87249\tvalidation_1-rmse:3216.40409\n",
      "[220]\tvalidation_0-rmse:2537.18005\tvalidation_1-rmse:3204.70826\n",
      "[221]\tvalidation_0-rmse:2515.52882\tvalidation_1-rmse:3193.75279\n",
      "[222]\tvalidation_0-rmse:2494.26507\tvalidation_1-rmse:3183.09266\n",
      "[223]\tvalidation_0-rmse:2472.93066\tvalidation_1-rmse:3173.34395\n",
      "[224]\tvalidation_0-rmse:2452.11869\tvalidation_1-rmse:3162.45969\n",
      "[225]\tvalidation_0-rmse:2431.36848\tvalidation_1-rmse:3152.87877\n",
      "[226]\tvalidation_0-rmse:2410.88220\tvalidation_1-rmse:3141.75698\n",
      "[227]\tvalidation_0-rmse:2390.78858\tvalidation_1-rmse:3132.83363\n",
      "[228]\tvalidation_0-rmse:2370.80284\tvalidation_1-rmse:3123.47524\n",
      "[229]\tvalidation_0-rmse:2350.98441\tvalidation_1-rmse:3112.98251\n",
      "[230]\tvalidation_0-rmse:2331.55743\tvalidation_1-rmse:3104.04440\n",
      "[231]\tvalidation_0-rmse:2312.31656\tvalidation_1-rmse:3094.90473\n",
      "[232]\tvalidation_0-rmse:2293.22884\tvalidation_1-rmse:3086.45993\n",
      "[233]\tvalidation_0-rmse:2274.10258\tvalidation_1-rmse:3080.04106\n",
      "[234]\tvalidation_0-rmse:2255.53474\tvalidation_1-rmse:3071.50597\n",
      "[235]\tvalidation_0-rmse:2237.06589\tvalidation_1-rmse:3062.17396\n",
      "[236]\tvalidation_0-rmse:2218.55876\tvalidation_1-rmse:3055.26663\n",
      "[237]\tvalidation_0-rmse:2200.51309\tvalidation_1-rmse:3049.00061\n",
      "[238]\tvalidation_0-rmse:2182.68358\tvalidation_1-rmse:3040.06648\n",
      "[239]\tvalidation_0-rmse:2165.04338\tvalidation_1-rmse:3032.70665\n",
      "[240]\tvalidation_0-rmse:2147.49899\tvalidation_1-rmse:3025.17049\n",
      "[241]\tvalidation_0-rmse:2130.33291\tvalidation_1-rmse:3016.95523\n",
      "[242]\tvalidation_0-rmse:2113.22424\tvalidation_1-rmse:3008.65462\n",
      "[243]\tvalidation_0-rmse:2096.34247\tvalidation_1-rmse:3001.21425\n",
      "[244]\tvalidation_0-rmse:2079.68360\tvalidation_1-rmse:2996.09070\n",
      "[245]\tvalidation_0-rmse:2063.18532\tvalidation_1-rmse:2990.04572\n",
      "[246]\tvalidation_0-rmse:2046.88688\tvalidation_1-rmse:2982.61370\n",
      "[247]\tvalidation_0-rmse:2030.74200\tvalidation_1-rmse:2974.40576\n",
      "[248]\tvalidation_0-rmse:2014.82839\tvalidation_1-rmse:2967.39586\n",
      "[249]\tvalidation_0-rmse:1999.07688\tvalidation_1-rmse:2961.50218\n",
      "[250]\tvalidation_0-rmse:1983.47856\tvalidation_1-rmse:2954.11038\n",
      "[251]\tvalidation_0-rmse:1968.08407\tvalidation_1-rmse:2947.85201\n",
      "[252]\tvalidation_0-rmse:1952.83925\tvalidation_1-rmse:2942.17473\n",
      "[253]\tvalidation_0-rmse:1937.80789\tvalidation_1-rmse:2935.72253\n",
      "[254]\tvalidation_0-rmse:1922.94444\tvalidation_1-rmse:2929.92597\n",
      "[255]\tvalidation_0-rmse:1908.35291\tvalidation_1-rmse:2924.93647\n",
      "[256]\tvalidation_0-rmse:1893.84097\tvalidation_1-rmse:2919.39387\n",
      "[257]\tvalidation_0-rmse:1879.46516\tvalidation_1-rmse:2913.90089\n",
      "[258]\tvalidation_0-rmse:1865.26872\tvalidation_1-rmse:2908.10094\n",
      "[259]\tvalidation_0-rmse:1851.22574\tvalidation_1-rmse:2901.82021\n",
      "[260]\tvalidation_0-rmse:1837.35209\tvalidation_1-rmse:2898.11948\n",
      "[261]\tvalidation_0-rmse:1823.61731\tvalidation_1-rmse:2893.26885\n",
      "[262]\tvalidation_0-rmse:1810.07325\tvalidation_1-rmse:2888.82653\n",
      "[263]\tvalidation_0-rmse:1796.70907\tvalidation_1-rmse:2885.26254\n",
      "[264]\tvalidation_0-rmse:1783.24054\tvalidation_1-rmse:2882.19377\n",
      "[265]\tvalidation_0-rmse:1770.20878\tvalidation_1-rmse:2877.67667\n",
      "[266]\tvalidation_0-rmse:1757.03319\tvalidation_1-rmse:2872.90490\n",
      "[267]\tvalidation_0-rmse:1744.28769\tvalidation_1-rmse:2868.22977\n",
      "[268]\tvalidation_0-rmse:1731.40409\tvalidation_1-rmse:2864.53136\n",
      "[269]\tvalidation_0-rmse:1718.94436\tvalidation_1-rmse:2860.24246\n",
      "[270]\tvalidation_0-rmse:1706.64998\tvalidation_1-rmse:2855.93384\n",
      "[271]\tvalidation_0-rmse:1694.41396\tvalidation_1-rmse:2851.87918\n",
      "[272]\tvalidation_0-rmse:1682.11949\tvalidation_1-rmse:2848.47391\n",
      "[273]\tvalidation_0-rmse:1670.24912\tvalidation_1-rmse:2844.98032\n",
      "[274]\tvalidation_0-rmse:1658.24858\tvalidation_1-rmse:2841.85759\n",
      "[275]\tvalidation_0-rmse:1646.69947\tvalidation_1-rmse:2838.63371\n",
      "[276]\tvalidation_0-rmse:1634.90370\tvalidation_1-rmse:2835.85758\n",
      "[277]\tvalidation_0-rmse:1623.57292\tvalidation_1-rmse:2832.68035\n",
      "[278]\tvalidation_0-rmse:1612.14721\tvalidation_1-rmse:2830.78823\n",
      "[279]\tvalidation_0-rmse:1600.84541\tvalidation_1-rmse:2828.62409\n",
      "[280]\tvalidation_0-rmse:1589.94482\tvalidation_1-rmse:2825.67310\n",
      "[281]\tvalidation_0-rmse:1578.90522\tvalidation_1-rmse:2822.51840\n",
      "[282]\tvalidation_0-rmse:1568.09091\tvalidation_1-rmse:2819.96251\n",
      "[283]\tvalidation_0-rmse:1557.58612\tvalidation_1-rmse:2817.49679\n",
      "[284]\tvalidation_0-rmse:1546.94612\tvalidation_1-rmse:2815.04737\n",
      "[285]\tvalidation_0-rmse:1536.26308\tvalidation_1-rmse:2812.45601\n",
      "[286]\tvalidation_0-rmse:1526.11911\tvalidation_1-rmse:2809.98595\n",
      "[287]\tvalidation_0-rmse:1515.75664\tvalidation_1-rmse:2806.70923\n",
      "[288]\tvalidation_0-rmse:1505.91717\tvalidation_1-rmse:2804.87995\n",
      "[289]\tvalidation_0-rmse:1495.78122\tvalidation_1-rmse:2802.53981\n",
      "[290]\tvalidation_0-rmse:1486.02783\tvalidation_1-rmse:2800.55004\n",
      "[291]\tvalidation_0-rmse:1476.25057\tvalidation_1-rmse:2798.55161\n",
      "[292]\tvalidation_0-rmse:1466.75042\tvalidation_1-rmse:2796.47112\n",
      "[293]\tvalidation_0-rmse:1457.17545\tvalidation_1-rmse:2793.83714\n",
      "[294]\tvalidation_0-rmse:1448.01680\tvalidation_1-rmse:2793.73455\n",
      "[295]\tvalidation_0-rmse:1438.83836\tvalidation_1-rmse:2791.09753\n",
      "[296]\tvalidation_0-rmse:1429.20130\tvalidation_1-rmse:2790.33722\n",
      "[297]\tvalidation_0-rmse:1419.87223\tvalidation_1-rmse:2788.54533\n",
      "[298]\tvalidation_0-rmse:1411.20436\tvalidation_1-rmse:2789.01169\n",
      "[299]\tvalidation_0-rmse:1402.07299\tvalidation_1-rmse:2787.25300\n",
      "[300]\tvalidation_0-rmse:1393.53622\tvalidation_1-rmse:2786.00953\n"
     ]
    },
    {
     "data": {
      "text/plain": [
       "XGBRegressor(base_score=0.5, booster='gbtree', callbacks=None,\n",
       "             colsample_bylevel=1, colsample_bynode=1, colsample_bytree=1,\n",
       "             early_stopping_rounds=None, enable_categorical=False,\n",
       "             eval_metric=None, gamma=0, gpu_id=-1, grow_policy='depthwise',\n",
       "             importance_type=None, interaction_constraints='',\n",
       "             learning_rate=0.01, max_bin=256, max_cat_to_onehot=4,\n",
       "             max_delta_step=0, max_depth=7, max_leaves=0, min_child_weight=1,\n",
       "             missing=nan, monotone_constraints='()', n_estimators=301, n_jobs=0,\n",
       "             num_parallel_tree=1, objective='reg:linear', predictor='auto',\n",
       "             random_state=0, reg_alpha=0, ...)"
      ]
     },
     "execution_count": 17,
     "metadata": {},
     "output_type": "execute_result"
    }
   ],
   "source": [
    "reg2 =xgb.XGBRegressor(base_score=0.5,\n",
    "                       booster='gbtree',    \n",
    "                       n_estimators=301,\n",
    "                       objective='reg:linear',\n",
    "                       max_depth=7,\n",
    "                       learning_rate=0.01)\n",
    "reg2.fit(X_train2, y_train2,\n",
    "        eval_set=[(X_train2, y_train2), (X_test2, y_test2)],\n",
    "        verbose=1)"
   ]
  },
  {
   "cell_type": "markdown",
   "metadata": {},
   "source": [
    "## Feature Importance"
   ]
  },
  {
   "cell_type": "code",
   "execution_count": 18,
   "metadata": {
    "execution": {
     "iopub.execute_input": "2023-02-16T11:52:31.478655Z",
     "iopub.status.busy": "2023-02-16T11:52:31.477776Z",
     "iopub.status.idle": "2023-02-16T11:52:31.735808Z",
     "shell.execute_reply": "2023-02-16T11:52:31.734658Z",
     "shell.execute_reply.started": "2023-02-16T11:52:31.478619Z"
    }
   },
   "outputs": [
    {
     "data": {
      "image/png": "[encoded data removed]",
      "text/plain": [
       "<Figure size 432x288 with 1 Axes>"
      ]
     },
     "metadata": {
      "needs_background": "light"
     },
     "output_type": "display_data"
    }
   ],
   "source": [
    "fi = pd.DataFrame(data=reg2.feature_importances_,\n",
    "             index=reg2.feature_names_in_,\n",
    "             columns=['importance'])\n",
    "fi.sort_values('importance').plot(kind='barh', title='Feature Importance')\n",
    "plt.show()"
   ]
  },
  {
   "cell_type": "markdown",
   "metadata": {},
   "source": [
    "## Forecast on Test"
   ]
  },
  {
   "cell_type": "code",
   "execution_count": 19,
   "metadata": {
    "execution": {
     "iopub.execute_input": "2023-02-16T11:52:31.737757Z",
     "iopub.status.busy": "2023-02-16T11:52:31.737415Z",
     "iopub.status.idle": "2023-02-16T11:52:32.771379Z",
     "shell.execute_reply": "2023-02-16T11:52:32.770186Z",
     "shell.execute_reply.started": "2023-02-16T11:52:31.737728Z"
    }
   },
   "outputs": [
    {
     "data": {
      "image/png": "[encoded data removed]",
      "text/plain": [
       "<Figure size 1080x360 with 1 Axes>"
      ]
     },
     "metadata": {
      "needs_background": "light"
     },
     "output_type": "display_data"
    }
   ],
   "source": [
    "df2 = df.copy()\n",
    "df_test2 = df_test.copy()\n",
    "df_test2['prediction'] = reg2.predict(X_test2)\n",
    "df2 = df2.merge(df_test2[['prediction']], how='left', left_index=True, right_index=True)\n",
    "ax = df2[['PowerConsumption_Zone2']].plot(figsize=(15, 5))\n",
    "df2['prediction'].plot(ax=ax, style='.')\n",
    "plt.legend(['Truth Data', 'Predictions'])\n",
    "ax.set_title('Raw Dat and Prediction')\n",
    "plt.show()"
   ]
  },
  {
   "cell_type": "code",
   "execution_count": 20,
   "metadata": {
    "execution": {
     "iopub.execute_input": "2023-02-16T11:52:32.773569Z",
     "iopub.status.busy": "2023-02-16T11:52:32.773155Z",
     "iopub.status.idle": "2023-02-16T12:00:38.519040Z",
     "shell.execute_reply": "2023-02-16T12:00:38.517787Z",
     "shell.execute_reply.started": "2023-02-16T11:52:32.773537Z"
    }
   },
   "outputs": [
    {
     "name": "stdout",
     "output_type": "stream",
     "text": [
      "[11:52:32] WARNING: ../src/objective/regression_obj.cu:203: reg:linear is now deprecated in favor of reg:squarederror.\n",
      "[0]\tvalidation_0-rmse:21443.93840\n",
      "[100]\tvalidation_0-rmse:7955.57967\n",
      "[200]\tvalidation_0-rmse:3043.51125\n",
      "[300]\tvalidation_0-rmse:1296.95042\n",
      "[400]\tvalidation_0-rmse:719.13059\n",
      "[500]\tvalidation_0-rmse:546.15185\n",
      "[600]\tvalidation_0-rmse:481.73031\n",
      "[700]\tvalidation_0-rmse:448.44146\n",
      "[800]\tvalidation_0-rmse:430.45371\n",
      "[900]\tvalidation_0-rmse:419.98272\n",
      "[1000]\tvalidation_0-rmse:411.80003\n",
      "[1100]\tvalidation_0-rmse:406.07337\n",
      "[1200]\tvalidation_0-rmse:400.85195\n",
      "[1300]\tvalidation_0-rmse:392.15636\n",
      "[1400]\tvalidation_0-rmse:387.33897\n",
      "[1500]\tvalidation_0-rmse:378.71543\n",
      "[1600]\tvalidation_0-rmse:372.90368\n",
      "[1700]\tvalidation_0-rmse:365.72233\n",
      "[1800]\tvalidation_0-rmse:356.55421\n",
      "[1900]\tvalidation_0-rmse:348.24539\n",
      "[2000]\tvalidation_0-rmse:342.93046\n",
      "[2100]\tvalidation_0-rmse:337.74995\n",
      "[2200]\tvalidation_0-rmse:331.73492\n",
      "[2300]\tvalidation_0-rmse:327.02469\n",
      "[2400]\tvalidation_0-rmse:322.49671\n",
      "[2500]\tvalidation_0-rmse:317.19714\n",
      "[2600]\tvalidation_0-rmse:313.21432\n",
      "[2700]\tvalidation_0-rmse:308.45001\n",
      "[2800]\tvalidation_0-rmse:304.52681\n",
      "[2900]\tvalidation_0-rmse:301.07448\n",
      "[3000]\tvalidation_0-rmse:296.97032\n",
      "[3100]\tvalidation_0-rmse:293.04635\n",
      "[3200]\tvalidation_0-rmse:289.80317\n",
      "[3300]\tvalidation_0-rmse:286.36722\n",
      "[3400]\tvalidation_0-rmse:280.62879\n",
      "[3500]\tvalidation_0-rmse:275.94235\n",
      "[3600]\tvalidation_0-rmse:272.43265\n",
      "[3700]\tvalidation_0-rmse:268.51095\n",
      "[3800]\tvalidation_0-rmse:263.00647\n",
      "[3900]\tvalidation_0-rmse:258.32568\n",
      "[4000]\tvalidation_0-rmse:254.45150\n",
      "[4100]\tvalidation_0-rmse:250.85098\n",
      "[4200]\tvalidation_0-rmse:247.06599\n",
      "[4300]\tvalidation_0-rmse:244.44603\n",
      "[4400]\tvalidation_0-rmse:241.55227\n",
      "[4500]\tvalidation_0-rmse:237.83154\n",
      "[4600]\tvalidation_0-rmse:234.50860\n",
      "[4700]\tvalidation_0-rmse:230.96315\n",
      "[4800]\tvalidation_0-rmse:226.70373\n",
      "[4900]\tvalidation_0-rmse:223.20777\n",
      "[5000]\tvalidation_0-rmse:219.92047\n",
      "[5100]\tvalidation_0-rmse:216.24933\n",
      "[5200]\tvalidation_0-rmse:212.97667\n",
      "[5300]\tvalidation_0-rmse:210.81934\n",
      "[5400]\tvalidation_0-rmse:208.05262\n",
      "[5500]\tvalidation_0-rmse:205.39135\n",
      "[5600]\tvalidation_0-rmse:202.94900\n",
      "[5700]\tvalidation_0-rmse:200.53096\n",
      "[5800]\tvalidation_0-rmse:197.55452\n",
      "[5900]\tvalidation_0-rmse:194.60178\n",
      "[6000]\tvalidation_0-rmse:192.39681\n",
      "[6100]\tvalidation_0-rmse:189.54372\n",
      "[6200]\tvalidation_0-rmse:187.07789\n",
      "[6300]\tvalidation_0-rmse:183.35262\n",
      "[6400]\tvalidation_0-rmse:180.72416\n",
      "[6500]\tvalidation_0-rmse:179.07849\n",
      "[6600]\tvalidation_0-rmse:176.83286\n",
      "[6700]\tvalidation_0-rmse:174.60685\n",
      "[6800]\tvalidation_0-rmse:173.07511\n",
      "[6900]\tvalidation_0-rmse:171.31857\n",
      "[7000]\tvalidation_0-rmse:169.32734\n",
      "[7100]\tvalidation_0-rmse:166.99122\n",
      "[7200]\tvalidation_0-rmse:164.00840\n",
      "[7300]\tvalidation_0-rmse:162.19099\n",
      "[7400]\tvalidation_0-rmse:159.50875\n",
      "[7500]\tvalidation_0-rmse:156.53734\n",
      "[7600]\tvalidation_0-rmse:154.10746\n",
      "[7700]\tvalidation_0-rmse:151.36510\n",
      "[7800]\tvalidation_0-rmse:149.55840\n",
      "[7900]\tvalidation_0-rmse:147.71348\n",
      "[8000]\tvalidation_0-rmse:145.98900\n",
      "[8100]\tvalidation_0-rmse:144.13379\n",
      "[8200]\tvalidation_0-rmse:142.47378\n",
      "[8300]\tvalidation_0-rmse:140.72684\n",
      "[8400]\tvalidation_0-rmse:138.88933\n",
      "[8500]\tvalidation_0-rmse:137.44809\n",
      "[8600]\tvalidation_0-rmse:135.49628\n",
      "[8700]\tvalidation_0-rmse:133.62756\n",
      "[8800]\tvalidation_0-rmse:131.99346\n",
      "[8900]\tvalidation_0-rmse:130.57684\n",
      "[9000]\tvalidation_0-rmse:128.79509\n",
      "[9100]\tvalidation_0-rmse:127.21084\n",
      "[9200]\tvalidation_0-rmse:125.92713\n",
      "[9300]\tvalidation_0-rmse:124.87055\n",
      "[9400]\tvalidation_0-rmse:123.12184\n",
      "[9500]\tvalidation_0-rmse:121.37995\n",
      "[9600]\tvalidation_0-rmse:119.96420\n",
      "[9700]\tvalidation_0-rmse:118.23781\n",
      "[9800]\tvalidation_0-rmse:117.18145\n",
      "[9900]\tvalidation_0-rmse:116.12194\n",
      "[9999]\tvalidation_0-rmse:114.89359\n"
     ]
    },
    {
     "data": {
      "text/plain": [
       "XGBRegressor(base_score=0.5, booster='gbtree', callbacks=None,\n",
       "             colsample_bylevel=1, colsample_bynode=1, colsample_bytree=1,\n",
       "             early_stopping_rounds=None, enable_categorical=False,\n",
       "             eval_metric=None, gamma=0, gpu_id=-1, grow_policy='depthwise',\n",
       "             importance_type=None, interaction_constraints='',\n",
       "             learning_rate=0.01, max_bin=256, max_cat_to_onehot=4,\n",
       "             max_delta_step=0, max_depth=10, max_leaves=0, min_child_weight=1,\n",
       "             missing=nan, monotone_constraints='()', n_estimators=10000,\n",
       "             n_jobs=0, num_parallel_tree=1, objective='reg:linear',\n",
       "             predictor='auto', random_state=0, reg_alpha=0, ...)"
      ]
     },
     "execution_count": 20,
     "metadata": {},
     "output_type": "execute_result"
    }
   ],
   "source": [
    "X_all2 = df2[FEATURES]\n",
    "y_all2 = df2[TARGET2]\n",
    "\n",
    "reg2 = xgb.XGBRegressor(base_score=0.5,\n",
    "                       booster='gbtree',    \n",
    "                       n_estimators=10000,\n",
    "                       objective='reg:linear',\n",
    "                       max_depth=10,\n",
    "                       learning_rate=0.01)\n",
    "reg2.fit(X_all2, y_all2,\n",
    "        eval_set=[(X_all2, y_all2)],\n",
    "        verbose=100)"
   ]
  },
  {
   "cell_type": "markdown",
   "metadata": {},
   "source": [
    "## Create our Model for PowerConsumption_Zone3"
   ]
  },
  {
   "cell_type": "code",
   "execution_count": 21,
   "metadata": {
    "execution": {
     "iopub.execute_input": "2023-02-16T12:00:38.520726Z",
     "iopub.status.busy": "2023-02-16T12:00:38.520381Z",
     "iopub.status.idle": "2023-02-16T12:00:38.530717Z",
     "shell.execute_reply": "2023-02-16T12:00:38.529347Z",
     "shell.execute_reply.started": "2023-02-16T12:00:38.520693Z"
    }
   },
   "outputs": [],
   "source": [
    "TARGET3 = 'PowerConsumption_Zone3'\n",
    "\n",
    "X_train3 = df_train[FEATURES]\n",
    "y_train3 = df_train[TARGET3]\n",
    "\n",
    "X_test3 = df_test[FEATURES]\n",
    "y_test3 = df_test[TARGET3]"
   ]
  },
  {
   "cell_type": "code",
   "execution_count": 22,
   "metadata": {
    "execution": {
     "iopub.execute_input": "2023-02-16T12:00:38.533188Z",
     "iopub.status.busy": "2023-02-16T12:00:38.532150Z",
     "iopub.status.idle": "2023-02-16T12:00:41.513363Z",
     "shell.execute_reply": "2023-02-16T12:00:41.512063Z",
     "shell.execute_reply.started": "2023-02-16T12:00:38.533135Z"
    }
   },
   "outputs": [
    {
     "name": "stdout",
     "output_type": "stream",
     "text": [
      "[12:00:38] WARNING: ../src/objective/regression_obj.cu:203: reg:linear is now deprecated in favor of reg:squarederror.\n",
      "[0]\tvalidation_0-rmse:21044.72408\tvalidation_1-rmse:13377.41563\n",
      "[1]\tvalidation_0-rmse:20835.99963\tvalidation_1-rmse:13178.40316\n",
      "[2]\tvalidation_0-rmse:20629.34394\tvalidation_1-rmse:12983.34124\n",
      "[3]\tvalidation_0-rmse:20424.77994\tvalidation_1-rmse:12781.51496\n",
      "[4]\tvalidation_0-rmse:20222.27889\tvalidation_1-rmse:12584.29091\n",
      "[5]\tvalidation_0-rmse:20021.79939\tvalidation_1-rmse:12392.02807\n",
      "[6]\tvalidation_0-rmse:19823.30565\tvalidation_1-rmse:12205.08905\n",
      "[7]\tvalidation_0-rmse:19626.79054\tvalidation_1-rmse:12020.22219\n",
      "[8]\tvalidation_0-rmse:19432.26396\tvalidation_1-rmse:11827.10375\n",
      "[9]\tvalidation_0-rmse:19239.69145\tvalidation_1-rmse:11639.54778\n",
      "[10]\tvalidation_0-rmse:19049.04624\tvalidation_1-rmse:11450.52554\n",
      "[11]\tvalidation_0-rmse:18860.27894\tvalidation_1-rmse:11271.63273\n",
      "[12]\tvalidation_0-rmse:18673.44386\tvalidation_1-rmse:11088.95625\n",
      "[13]\tvalidation_0-rmse:18488.46540\tvalidation_1-rmse:10912.16892\n",
      "[14]\tvalidation_0-rmse:18305.35297\tvalidation_1-rmse:10732.86827\n",
      "[15]\tvalidation_0-rmse:18124.04518\tvalidation_1-rmse:10547.07604\n",
      "[16]\tvalidation_0-rmse:17944.59227\tvalidation_1-rmse:10372.46975\n",
      "[17]\tvalidation_0-rmse:17766.90902\tvalidation_1-rmse:10193.92278\n",
      "[18]\tvalidation_0-rmse:17591.03348\tvalidation_1-rmse:10024.89441\n",
      "[19]\tvalidation_0-rmse:17416.90021\tvalidation_1-rmse:9848.92142\n",
      "[20]\tvalidation_0-rmse:17244.50339\tvalidation_1-rmse:9689.08205\n",
      "[21]\tvalidation_0-rmse:17073.84331\tvalidation_1-rmse:9529.32543\n",
      "[22]\tvalidation_0-rmse:16904.89114\tvalidation_1-rmse:9373.29390\n",
      "[23]\tvalidation_0-rmse:16737.59213\tvalidation_1-rmse:9211.82473\n",
      "[24]\tvalidation_0-rmse:16571.98118\tvalidation_1-rmse:9046.55232\n",
      "[25]\tvalidation_0-rmse:16408.04847\tvalidation_1-rmse:8882.91656\n",
      "[26]\tvalidation_0-rmse:16245.76945\tvalidation_1-rmse:8722.23423\n",
      "[27]\tvalidation_0-rmse:16085.07525\tvalidation_1-rmse:8571.83351\n",
      "[28]\tvalidation_0-rmse:15926.03054\tvalidation_1-rmse:8413.96386\n",
      "[29]\tvalidation_0-rmse:15768.53345\tvalidation_1-rmse:8257.32519\n",
      "[30]\tvalidation_0-rmse:15612.62578\tvalidation_1-rmse:8109.50454\n",
      "[31]\tvalidation_0-rmse:15458.32572\tvalidation_1-rmse:7959.45545\n",
      "[32]\tvalidation_0-rmse:15305.59148\tvalidation_1-rmse:7815.46057\n",
      "[33]\tvalidation_0-rmse:15154.29795\tvalidation_1-rmse:7679.90185\n",
      "[34]\tvalidation_0-rmse:15004.53611\tvalidation_1-rmse:7535.00839\n",
      "[35]\tvalidation_0-rmse:14856.26319\tvalidation_1-rmse:7405.19728\n",
      "[36]\tvalidation_0-rmse:14709.52566\tvalidation_1-rmse:7260.15546\n",
      "[37]\tvalidation_0-rmse:14564.21522\tvalidation_1-rmse:7121.07380\n",
      "[38]\tvalidation_0-rmse:14420.38297\tvalidation_1-rmse:6983.44318\n",
      "[39]\tvalidation_0-rmse:14278.06047\tvalidation_1-rmse:6844.12134\n",
      "[40]\tvalidation_0-rmse:14137.06357\tvalidation_1-rmse:6723.36854\n",
      "[41]\tvalidation_0-rmse:13997.50373\tvalidation_1-rmse:6597.32130\n",
      "[42]\tvalidation_0-rmse:13859.29382\tvalidation_1-rmse:6479.44716\n",
      "[43]\tvalidation_0-rmse:13722.52267\tvalidation_1-rmse:6357.91774\n",
      "[44]\tvalidation_0-rmse:13587.08256\tvalidation_1-rmse:6234.06551\n",
      "[45]\tvalidation_0-rmse:13452.98168\tvalidation_1-rmse:6108.70304\n",
      "[46]\tvalidation_0-rmse:13320.28977\tvalidation_1-rmse:5980.82703\n",
      "[47]\tvalidation_0-rmse:13188.85825\tvalidation_1-rmse:5871.55707\n",
      "[48]\tvalidation_0-rmse:13058.81450\tvalidation_1-rmse:5759.56336\n",
      "[49]\tvalidation_0-rmse:12929.99868\tvalidation_1-rmse:5659.23777\n",
      "[50]\tvalidation_0-rmse:12802.51481\tvalidation_1-rmse:5550.76264\n",
      "[51]\tvalidation_0-rmse:12676.33115\tvalidation_1-rmse:5441.23815\n",
      "[52]\tvalidation_0-rmse:12551.38836\tvalidation_1-rmse:5339.73446\n",
      "[53]\tvalidation_0-rmse:12427.65341\tvalidation_1-rmse:5235.35237\n",
      "[54]\tvalidation_0-rmse:12305.24240\tvalidation_1-rmse:5120.02462\n",
      "[55]\tvalidation_0-rmse:12183.97813\tvalidation_1-rmse:5022.07439\n",
      "[56]\tvalidation_0-rmse:12063.96782\tvalidation_1-rmse:4924.46452\n",
      "[57]\tvalidation_0-rmse:11945.17174\tvalidation_1-rmse:4825.10127\n",
      "[58]\tvalidation_0-rmse:11827.57772\tvalidation_1-rmse:4715.01926\n",
      "[59]\tvalidation_0-rmse:11711.12931\tvalidation_1-rmse:4621.74755\n",
      "[60]\tvalidation_0-rmse:11595.86267\tvalidation_1-rmse:4529.04483\n",
      "[61]\tvalidation_0-rmse:11481.72047\tvalidation_1-rmse:4437.66457\n",
      "[62]\tvalidation_0-rmse:11368.76486\tvalidation_1-rmse:4349.97504\n",
      "[63]\tvalidation_0-rmse:11256.93923\tvalidation_1-rmse:4261.06565\n",
      "[64]\tvalidation_0-rmse:11146.21051\tvalidation_1-rmse:4182.09257\n",
      "[65]\tvalidation_0-rmse:11036.59948\tvalidation_1-rmse:4094.82000\n",
      "[66]\tvalidation_0-rmse:10928.12085\tvalidation_1-rmse:4002.14914\n",
      "[67]\tvalidation_0-rmse:10820.73310\tvalidation_1-rmse:3922.01313\n",
      "[68]\tvalidation_0-rmse:10714.40059\tvalidation_1-rmse:3839.92832\n",
      "[69]\tvalidation_0-rmse:10609.14407\tvalidation_1-rmse:3771.22870\n",
      "[70]\tvalidation_0-rmse:10504.93746\tvalidation_1-rmse:3696.00172\n",
      "[71]\tvalidation_0-rmse:10401.78139\tvalidation_1-rmse:3623.22288\n",
      "[72]\tvalidation_0-rmse:10299.64096\tvalidation_1-rmse:3556.18210\n",
      "[73]\tvalidation_0-rmse:10198.55815\tvalidation_1-rmse:3485.62033\n",
      "[74]\tvalidation_0-rmse:10098.50408\tvalidation_1-rmse:3417.10214\n",
      "[75]\tvalidation_0-rmse:9999.43081\tvalidation_1-rmse:3349.63360\n",
      "[76]\tvalidation_0-rmse:9901.35356\tvalidation_1-rmse:3294.25571\n",
      "[77]\tvalidation_0-rmse:9804.24850\tvalidation_1-rmse:3228.67252\n",
      "[78]\tvalidation_0-rmse:9708.17918\tvalidation_1-rmse:3163.66503\n",
      "[79]\tvalidation_0-rmse:9613.01908\tvalidation_1-rmse:3113.46556\n",
      "[80]\tvalidation_0-rmse:9518.83905\tvalidation_1-rmse:3053.81867\n",
      "[81]\tvalidation_0-rmse:9425.61758\tvalidation_1-rmse:2995.08667\n",
      "[82]\tvalidation_0-rmse:9333.29233\tvalidation_1-rmse:2944.82365\n",
      "[83]\tvalidation_0-rmse:9241.90861\tvalidation_1-rmse:2899.68708\n",
      "[84]\tvalidation_0-rmse:9151.47793\tvalidation_1-rmse:2849.65168\n",
      "[85]\tvalidation_0-rmse:9061.89177\tvalidation_1-rmse:2802.32982\n",
      "[86]\tvalidation_0-rmse:8973.22023\tvalidation_1-rmse:2761.08731\n",
      "[87]\tvalidation_0-rmse:8885.43565\tvalidation_1-rmse:2722.16565\n",
      "[88]\tvalidation_0-rmse:8798.58800\tvalidation_1-rmse:2682.53502\n",
      "[89]\tvalidation_0-rmse:8712.61618\tvalidation_1-rmse:2642.79821\n",
      "[90]\tvalidation_0-rmse:8627.50453\tvalidation_1-rmse:2608.52292\n",
      "[91]\tvalidation_0-rmse:8543.20357\tvalidation_1-rmse:2583.78303\n",
      "[92]\tvalidation_0-rmse:8459.78497\tvalidation_1-rmse:2552.43552\n",
      "[93]\tvalidation_0-rmse:8377.15776\tvalidation_1-rmse:2527.27131\n",
      "[94]\tvalidation_0-rmse:8295.43564\tvalidation_1-rmse:2501.20997\n",
      "[95]\tvalidation_0-rmse:8214.48671\tvalidation_1-rmse:2484.18449\n",
      "[96]\tvalidation_0-rmse:8134.42973\tvalidation_1-rmse:2464.13302\n",
      "[97]\tvalidation_0-rmse:8055.09691\tvalidation_1-rmse:2448.05959\n",
      "[98]\tvalidation_0-rmse:7976.56973\tvalidation_1-rmse:2435.80569\n",
      "[99]\tvalidation_0-rmse:7898.83266\tvalidation_1-rmse:2424.43484\n",
      "[100]\tvalidation_0-rmse:7821.93308\tvalidation_1-rmse:2413.53681\n",
      "[101]\tvalidation_0-rmse:7745.76099\tvalidation_1-rmse:2405.97122\n",
      "[102]\tvalidation_0-rmse:7670.42477\tvalidation_1-rmse:2399.85747\n",
      "[103]\tvalidation_0-rmse:7595.79830\tvalidation_1-rmse:2396.81544\n"
     ]
    },
    {
     "data": {
      "text/plain": [
       "XGBRegressor(base_score=0.5, booster='gbtree', callbacks=None,\n",
       "             colsample_bylevel=1, colsample_bynode=1, colsample_bytree=1,\n",
       "             early_stopping_rounds=None, enable_categorical=False,\n",
       "             eval_metric=None, gamma=0, gpu_id=-1, grow_policy='depthwise',\n",
       "             importance_type=None, interaction_constraints='',\n",
       "             learning_rate=0.01, max_bin=256, max_cat_to_onehot=4,\n",
       "             max_delta_step=0, max_depth=7, max_leaves=0, min_child_weight=1,\n",
       "             missing=nan, monotone_constraints='()', n_estimators=104, n_jobs=0,\n",
       "             num_parallel_tree=1, objective='reg:linear', predictor='auto',\n",
       "             random_state=0, reg_alpha=0, ...)"
      ]
     },
     "execution_count": 22,
     "metadata": {},
     "output_type": "execute_result"
    }
   ],
   "source": [
    "reg3 =xgb.XGBRegressor(base_score=0.5,\n",
    "                       booster='gbtree',    \n",
    "                       n_estimators=104,\n",
    "                       objective='reg:linear',\n",
    "                       max_depth=7,\n",
    "                       learning_rate=0.01)\n",
    "reg3.fit(X_train3, y_train3,\n",
    "        eval_set=[(X_train3, y_train3), (X_test3, y_test3)],\n",
    "        verbose=1)"
   ]
  },
  {
   "cell_type": "markdown",
   "metadata": {},
   "source": [
    "## Feature Importance\n"
   ]
  },
  {
   "cell_type": "code",
   "execution_count": 23,
   "metadata": {
    "execution": {
     "iopub.execute_input": "2023-02-16T12:00:41.517809Z",
     "iopub.status.busy": "2023-02-16T12:00:41.517302Z",
     "iopub.status.idle": "2023-02-16T12:00:41.793426Z",
     "shell.execute_reply": "2023-02-16T12:00:41.792045Z",
     "shell.execute_reply.started": "2023-02-16T12:00:41.517768Z"
    }
   },
   "outputs": [
    {
     "data": {
      "image/png": "[encoded data removed]",
      "text/plain": [
       "<Figure size 432x288 with 1 Axes>"
      ]
     },
     "metadata": {
      "needs_background": "light"
     },
     "output_type": "display_data"
    }
   ],
   "source": [
    "fi = pd.DataFrame(data=reg3.feature_importances_,\n",
    "             index=reg3.feature_names_in_,\n",
    "             columns=['importance'])\n",
    "fi.sort_values('importance').plot(kind='barh', title='Feature Importance')\n",
    "plt.show()"
   ]
  },
  {
   "cell_type": "markdown",
   "metadata": {},
   "source": [
    "## Forecast on Test\n"
   ]
  },
  {
   "cell_type": "code",
   "execution_count": 24,
   "metadata": {
    "execution": {
     "iopub.execute_input": "2023-02-16T12:00:41.795173Z",
     "iopub.status.busy": "2023-02-16T12:00:41.794808Z",
     "iopub.status.idle": "2023-02-16T12:00:42.783536Z",
     "shell.execute_reply": "2023-02-16T12:00:42.782516Z",
     "shell.execute_reply.started": "2023-02-16T12:00:41.795140Z"
    }
   },
   "outputs": [
    {
     "data": {
      "image/png": "[encoded data removed]",
      "text/plain": [
       "<Figure size 1080x360 with 1 Axes>"
      ]
     },
     "metadata": {
      "needs_background": "light"
     },
     "output_type": "display_data"
    }
   ],
   "source": [
    "df3 = df.copy()\n",
    "df_test3 = df_test.copy()\n",
    "df_test3['prediction'] = reg3.predict(X_test3)\n",
    "df3 = df3.merge(df_test3[['prediction']], how='left', left_index=True, right_index=True)\n",
    "ax = df3[['PowerConsumption_Zone3']].plot(figsize=(15, 5))\n",
    "df3['prediction'].plot(ax=ax, style='.')\n",
    "plt.legend(['Truth Data', 'Predictions'])\n",
    "ax.set_title('Raw Dat and Prediction')\n",
    "plt.show()"
   ]
  },
  {
   "cell_type": "markdown",
   "metadata": {},
   "source": [
    "X_all3 = df3[FEATURES]\n",
    "y_all3 = df3[TARGET3]\n",
    "\n",
    "reg3 = xgb.XGBRegressor(base_score=0.5,\n",
    "                       booster='gbtree',    \n",
    "                       n_estimators=10000,\n",
    "                       objective='reg:linear',\n",
    "                       max_depth=10,\n",
    "                       learning_rate=0.01)\n",
    "reg3.fit(X_all3, y_all3,\n",
    "        eval_set=[(X_all3, y_all3)],\n",
    "        verbose=100)"
   ]
  },
  {
   "cell_type": "code",
   "execution_count": 25,
   "metadata": {
    "execution": {
     "iopub.execute_input": "2023-02-16T12:00:42.786147Z",
     "iopub.status.busy": "2023-02-16T12:00:42.784966Z",
     "iopub.status.idle": "2023-02-16T12:08:48.156383Z",
     "shell.execute_reply": "2023-02-16T12:08:48.155163Z",
     "shell.execute_reply.started": "2023-02-16T12:00:42.786105Z"
    }
   },
   "outputs": [
    {
     "name": "stdout",
     "output_type": "stream",
     "text": [
      "[12:00:42] WARNING: ../src/objective/regression_obj.cu:203: reg:linear is now deprecated in favor of reg:squarederror.\n",
      "[0]\tvalidation_0-rmse:18818.28014\n",
      "[100]\tvalidation_0-rmse:6989.78258\n",
      "[200]\tvalidation_0-rmse:2676.20238\n",
      "[300]\tvalidation_0-rmse:1145.14159\n",
      "[400]\tvalidation_0-rmse:656.97397\n",
      "[500]\tvalidation_0-rmse:511.15067\n",
      "[600]\tvalidation_0-rmse:457.64753\n",
      "[700]\tvalidation_0-rmse:426.47717\n",
      "[800]\tvalidation_0-rmse:410.99168\n",
      "[900]\tvalidation_0-rmse:405.01074\n",
      "[1000]\tvalidation_0-rmse:397.88250\n",
      "[1100]\tvalidation_0-rmse:390.27141\n",
      "[1200]\tvalidation_0-rmse:383.93582\n",
      "[1300]\tvalidation_0-rmse:376.71387\n",
      "[1400]\tvalidation_0-rmse:369.47166\n",
      "[1500]\tvalidation_0-rmse:365.18356\n",
      "[1600]\tvalidation_0-rmse:360.06868\n",
      "[1700]\tvalidation_0-rmse:354.71067\n",
      "[1800]\tvalidation_0-rmse:350.44637\n",
      "[1900]\tvalidation_0-rmse:342.58529\n",
      "[2000]\tvalidation_0-rmse:338.18692\n",
      "[2100]\tvalidation_0-rmse:332.74108\n",
      "[2200]\tvalidation_0-rmse:326.74150\n",
      "[2300]\tvalidation_0-rmse:321.61851\n",
      "[2400]\tvalidation_0-rmse:317.10110\n",
      "[2500]\tvalidation_0-rmse:311.42611\n",
      "[2600]\tvalidation_0-rmse:305.94286\n",
      "[2700]\tvalidation_0-rmse:301.57145\n",
      "[2800]\tvalidation_0-rmse:296.12190\n",
      "[2900]\tvalidation_0-rmse:290.81962\n",
      "[3000]\tvalidation_0-rmse:286.28829\n",
      "[3100]\tvalidation_0-rmse:282.46736\n",
      "[3200]\tvalidation_0-rmse:277.43356\n",
      "[3300]\tvalidation_0-rmse:273.64622\n",
      "[3400]\tvalidation_0-rmse:270.00437\n",
      "[3500]\tvalidation_0-rmse:265.85928\n",
      "[3600]\tvalidation_0-rmse:261.84078\n",
      "[3700]\tvalidation_0-rmse:257.36056\n",
      "[3800]\tvalidation_0-rmse:252.67285\n",
      "[3900]\tvalidation_0-rmse:249.54280\n",
      "[4000]\tvalidation_0-rmse:246.35172\n",
      "[4100]\tvalidation_0-rmse:242.38159\n",
      "[4200]\tvalidation_0-rmse:238.37602\n",
      "[4300]\tvalidation_0-rmse:235.66949\n",
      "[4400]\tvalidation_0-rmse:231.75442\n",
      "[4500]\tvalidation_0-rmse:228.53335\n",
      "[4600]\tvalidation_0-rmse:224.58641\n",
      "[4700]\tvalidation_0-rmse:220.48219\n",
      "[4800]\tvalidation_0-rmse:217.47031\n",
      "[4900]\tvalidation_0-rmse:213.70350\n",
      "[5000]\tvalidation_0-rmse:211.03761\n",
      "[5100]\tvalidation_0-rmse:207.88445\n",
      "[5200]\tvalidation_0-rmse:205.94022\n",
      "[5300]\tvalidation_0-rmse:203.59238\n",
      "[5400]\tvalidation_0-rmse:200.88588\n",
      "[5500]\tvalidation_0-rmse:198.09653\n",
      "[5600]\tvalidation_0-rmse:195.44097\n",
      "[5700]\tvalidation_0-rmse:192.79812\n",
      "[5800]\tvalidation_0-rmse:190.98285\n",
      "[5900]\tvalidation_0-rmse:188.83099\n",
      "[6000]\tvalidation_0-rmse:186.25495\n",
      "[6100]\tvalidation_0-rmse:183.66062\n",
      "[6200]\tvalidation_0-rmse:179.79958\n",
      "[6300]\tvalidation_0-rmse:175.59024\n",
      "[6400]\tvalidation_0-rmse:172.43999\n",
      "[6500]\tvalidation_0-rmse:170.28543\n",
      "[6600]\tvalidation_0-rmse:167.10533\n",
      "[6700]\tvalidation_0-rmse:165.10489\n",
      "[6800]\tvalidation_0-rmse:162.89851\n",
      "[6900]\tvalidation_0-rmse:161.03099\n",
      "[7000]\tvalidation_0-rmse:159.09959\n",
      "[7100]\tvalidation_0-rmse:157.48894\n",
      "[7200]\tvalidation_0-rmse:155.81776\n",
      "[7300]\tvalidation_0-rmse:152.81452\n",
      "[7400]\tvalidation_0-rmse:150.64066\n",
      "[7500]\tvalidation_0-rmse:148.19945\n",
      "[7600]\tvalidation_0-rmse:146.23066\n",
      "[7700]\tvalidation_0-rmse:144.29899\n",
      "[7800]\tvalidation_0-rmse:142.76493\n",
      "[7900]\tvalidation_0-rmse:141.41437\n",
      "[8000]\tvalidation_0-rmse:139.91083\n",
      "[8100]\tvalidation_0-rmse:137.70531\n",
      "[8200]\tvalidation_0-rmse:136.66071\n",
      "[8300]\tvalidation_0-rmse:134.87274\n",
      "[8400]\tvalidation_0-rmse:133.05923\n",
      "[8500]\tvalidation_0-rmse:131.04473\n",
      "[8600]\tvalidation_0-rmse:129.22111\n",
      "[8700]\tvalidation_0-rmse:127.65190\n",
      "[8800]\tvalidation_0-rmse:125.79031\n",
      "[8900]\tvalidation_0-rmse:124.20621\n",
      "[9000]\tvalidation_0-rmse:123.08430\n",
      "[9100]\tvalidation_0-rmse:121.84435\n",
      "[9200]\tvalidation_0-rmse:120.64188\n",
      "[9300]\tvalidation_0-rmse:119.54394\n",
      "[9400]\tvalidation_0-rmse:118.45529\n",
      "[9500]\tvalidation_0-rmse:117.23769\n",
      "[9600]\tvalidation_0-rmse:116.45228\n",
      "[9700]\tvalidation_0-rmse:115.93332\n",
      "[9800]\tvalidation_0-rmse:114.73465\n",
      "[9900]\tvalidation_0-rmse:113.37738\n",
      "[9999]\tvalidation_0-rmse:111.63896\n"
     ]
    },
    {
     "data": {
      "text/plain": [
       "XGBRegressor(base_score=0.5, booster='gbtree', callbacks=None,\n",
       "             colsample_bylevel=1, colsample_bynode=1, colsample_bytree=1,\n",
       "             early_stopping_rounds=None, enable_categorical=False,\n",
       "             eval_metric=None, gamma=0, gpu_id=-1, grow_policy='depthwise',\n",
       "             importance_type=None, interaction_constraints='',\n",
       "             learning_rate=0.01, max_bin=256, max_cat_to_onehot=4,\n",
       "             max_delta_step=0, max_depth=10, max_leaves=0, min_child_weight=1,\n",
       "             missing=nan, monotone_constraints='()', n_estimators=10000,\n",
       "             n_jobs=0, num_parallel_tree=1, objective='reg:linear',\n",
       "             predictor='auto', random_state=0, reg_alpha=0, ...)"
      ]
     },
     "execution_count": 25,
     "metadata": {},
     "output_type": "execute_result"
    }
   ],
   "source": [
    "X_all3 = df3[FEATURES]\n",
    "y_all3 = df3[TARGET3]\n",
    "\n",
    "reg3 =xgb.XGBRegressor(base_score=0.5,\n",
    "                       booster='gbtree',    \n",
    "                       n_estimators=10000,\n",
    "                       objective='reg:linear',\n",
    "                       max_depth=10,\n",
    "                       learning_rate=0.01)\n",
    "reg3.fit(X_all3, y_all3,\n",
    "        eval_set=[(X_all3, y_all3)],\n",
    "        verbose=100)"
   ]
  },
  {
   "cell_type": "markdown",
   "metadata": {},
   "source": [
    "# Fin Train"
   ]
  },
  {
   "cell_type": "code",
   "execution_count": 26,
   "metadata": {
    "execution": {
     "iopub.execute_input": "2023-02-16T12:08:48.158714Z",
     "iopub.status.busy": "2023-02-16T12:08:48.158216Z",
     "iopub.status.idle": "2023-02-16T12:08:48.186331Z",
     "shell.execute_reply": "2023-02-16T12:08:48.184882Z",
     "shell.execute_reply.started": "2023-02-16T12:08:48.158666Z"
    }
   },
   "outputs": [],
   "source": [
    "sub_df = pd.read_csv(\"/kaggle/input/EnsiasAIClub-CK/sample_data.csv\")"
   ]
  },
  {
   "cell_type": "code",
   "execution_count": 27,
   "metadata": {
    "execution": {
     "iopub.execute_input": "2023-02-16T12:08:48.188479Z",
     "iopub.status.busy": "2023-02-16T12:08:48.187995Z",
     "iopub.status.idle": "2023-02-16T12:08:48.205434Z",
     "shell.execute_reply": "2023-02-16T12:08:48.204171Z",
     "shell.execute_reply.started": "2023-02-16T12:08:48.188431Z"
    }
   },
   "outputs": [
    {
     "data": {
      "text/html": [
       "<div>\n",
       "<style scoped>\n",
       "    .dataframe tbody tr th:only-of-type {\n",
       "        vertical-align: middle;\n",
       "    }\n",
       "\n",
       "    .dataframe tbody tr th {\n",
       "        vertical-align: top;\n",
       "    }\n",
       "\n",
       "    .dataframe thead th {\n",
       "        text-align: right;\n",
       "    }\n",
       "</style>\n",
       "<table border=\"1\" class=\"dataframe\">\n",
       "  <thead>\n",
       "    <tr style=\"text-align: right;\">\n",
       "      <th></th>\n",
       "      <th>Datetime</th>\n",
       "      <th>predicted_Zone1</th>\n",
       "      <th>predicted_Zone2</th>\n",
       "      <th>predicted_Zone3</th>\n",
       "    </tr>\n",
       "  </thead>\n",
       "  <tbody>\n",
       "    <tr>\n",
       "      <th>0</th>\n",
       "      <td>2/12/2017 14:40</td>\n",
       "      <td>30000</td>\n",
       "      <td>10000</td>\n",
       "      <td>20000</td>\n",
       "    </tr>\n",
       "    <tr>\n",
       "      <th>1</th>\n",
       "      <td>11/22/2017 15:30</td>\n",
       "      <td>30000</td>\n",
       "      <td>10000</td>\n",
       "      <td>20000</td>\n",
       "    </tr>\n",
       "    <tr>\n",
       "      <th>2</th>\n",
       "      <td>10/15/2017 1:50</td>\n",
       "      <td>30000</td>\n",
       "      <td>10000</td>\n",
       "      <td>20000</td>\n",
       "    </tr>\n",
       "    <tr>\n",
       "      <th>3</th>\n",
       "      <td>9/11/2017 23:00</td>\n",
       "      <td>30000</td>\n",
       "      <td>10000</td>\n",
       "      <td>20000</td>\n",
       "    </tr>\n",
       "    <tr>\n",
       "      <th>4</th>\n",
       "      <td>12/26/2017 1:20</td>\n",
       "      <td>30000</td>\n",
       "      <td>10000</td>\n",
       "      <td>20000</td>\n",
       "    </tr>\n",
       "    <tr>\n",
       "      <th>...</th>\n",
       "      <td>...</td>\n",
       "      <td>...</td>\n",
       "      <td>...</td>\n",
       "      <td>...</td>\n",
       "    </tr>\n",
       "    <tr>\n",
       "      <th>10478</th>\n",
       "      <td>2/1/2017 13:00</td>\n",
       "      <td>30000</td>\n",
       "      <td>10000</td>\n",
       "      <td>20000</td>\n",
       "    </tr>\n",
       "    <tr>\n",
       "      <th>10479</th>\n",
       "      <td>5/17/2017 14:40</td>\n",
       "      <td>30000</td>\n",
       "      <td>10000</td>\n",
       "      <td>20000</td>\n",
       "    </tr>\n",
       "    <tr>\n",
       "      <th>10480</th>\n",
       "      <td>9/3/2017 7:00</td>\n",
       "      <td>30000</td>\n",
       "      <td>10000</td>\n",
       "      <td>20000</td>\n",
       "    </tr>\n",
       "    <tr>\n",
       "      <th>10481</th>\n",
       "      <td>11/23/2017 11:40</td>\n",
       "      <td>30000</td>\n",
       "      <td>10000</td>\n",
       "      <td>20000</td>\n",
       "    </tr>\n",
       "    <tr>\n",
       "      <th>10482</th>\n",
       "      <td>6/14/2017 23:40</td>\n",
       "      <td>30000</td>\n",
       "      <td>10000</td>\n",
       "      <td>20000</td>\n",
       "    </tr>\n",
       "  </tbody>\n",
       "</table>\n",
       "<p>10483 rows × 4 columns</p>\n",
       "</div>"
      ],
      "text/plain": [
       "               Datetime  predicted_Zone1  predicted_Zone2  predicted_Zone3\n",
       "0       2/12/2017 14:40            30000            10000            20000\n",
       "1      11/22/2017 15:30            30000            10000            20000\n",
       "2       10/15/2017 1:50            30000            10000            20000\n",
       "3       9/11/2017 23:00            30000            10000            20000\n",
       "4       12/26/2017 1:20            30000            10000            20000\n",
       "...                 ...              ...              ...              ...\n",
       "10478    2/1/2017 13:00            30000            10000            20000\n",
       "10479   5/17/2017 14:40            30000            10000            20000\n",
       "10480     9/3/2017 7:00            30000            10000            20000\n",
       "10481  11/23/2017 11:40            30000            10000            20000\n",
       "10482   6/14/2017 23:40            30000            10000            20000\n",
       "\n",
       "[10483 rows x 4 columns]"
      ]
     },
     "execution_count": 27,
     "metadata": {},
     "output_type": "execute_result"
    }
   ],
   "source": [
    "sub_df"
   ]
  },
  {
   "cell_type": "code",
   "execution_count": 28,
   "metadata": {
    "execution": {
     "iopub.execute_input": "2023-02-16T12:08:48.207758Z",
     "iopub.status.busy": "2023-02-16T12:08:48.207379Z",
     "iopub.status.idle": "2023-02-16T12:08:49.309117Z",
     "shell.execute_reply": "2023-02-16T12:08:49.308133Z",
     "shell.execute_reply.started": "2023-02-16T12:08:48.207725Z"
    }
   },
   "outputs": [],
   "source": [
    "test = test.set_index('Datetime')\n",
    "test.index = pd.to_datetime(test.index)\n",
    "test_f = create_features(test)"
   ]
  },
  {
   "cell_type": "code",
   "execution_count": 29,
   "metadata": {
    "execution": {
     "iopub.execute_input": "2023-02-16T12:08:49.311258Z",
     "iopub.status.busy": "2023-02-16T12:08:49.310687Z",
     "iopub.status.idle": "2023-02-16T12:08:51.956966Z",
     "shell.execute_reply": "2023-02-16T12:08:51.955886Z",
     "shell.execute_reply.started": "2023-02-16T12:08:49.311175Z"
    }
   },
   "outputs": [],
   "source": [
    "sub_df['predicted_Zone1']= reg1.predict(test_f[FEATURES])"
   ]
  },
  {
   "cell_type": "code",
   "execution_count": 30,
   "metadata": {
    "execution": {
     "iopub.execute_input": "2023-02-16T12:08:51.964619Z",
     "iopub.status.busy": "2023-02-16T12:08:51.962067Z",
     "iopub.status.idle": "2023-02-16T12:08:54.494756Z",
     "shell.execute_reply": "2023-02-16T12:08:54.493742Z",
     "shell.execute_reply.started": "2023-02-16T12:08:51.964565Z"
    }
   },
   "outputs": [],
   "source": [
    "sub_df['predicted_Zone2']= reg2.predict(test_f[FEATURES])"
   ]
  },
  {
   "cell_type": "code",
   "execution_count": 31,
   "metadata": {
    "execution": {
     "iopub.execute_input": "2023-02-16T12:08:54.502345Z",
     "iopub.status.busy": "2023-02-16T12:08:54.499835Z",
     "iopub.status.idle": "2023-02-16T12:08:57.065893Z",
     "shell.execute_reply": "2023-02-16T12:08:57.064962Z",
     "shell.execute_reply.started": "2023-02-16T12:08:54.502292Z"
    }
   },
   "outputs": [],
   "source": [
    "sub_df['predicted_Zone3']= reg3.predict(test_f[FEATURES])"
   ]
  },
  {
   "cell_type": "code",
   "execution_count": 32,
   "metadata": {
    "execution": {
     "iopub.execute_input": "2023-02-16T12:08:57.073817Z",
     "iopub.status.busy": "2023-02-16T12:08:57.070838Z",
     "iopub.status.idle": "2023-02-16T12:08:57.123224Z",
     "shell.execute_reply": "2023-02-16T12:08:57.122244Z",
     "shell.execute_reply.started": "2023-02-16T12:08:57.073769Z"
    }
   },
   "outputs": [],
   "source": [
    "sub_df.to_csv('submission11.csv',index=False)"
   ]
  },
  {
   "cell_type": "code",
   "execution_count": 13,
   "metadata": {},
   "outputs": [
    {
     "name": "stdout",
     "output_type": "stream",
     "text": [
      "     A  B\n",
      "0  1.0  a\n",
      "1  2.0  0\n",
      "2  0.0  c\n",
      "3  4.0  d\n"
     ]
    }
   ],
   "source": [
    "import pandas as pd\n",
    "\n",
    "# Créer un dataframe de démonstration\n",
    "df = pd.DataFrame({'A': [1, 2, np.nan, 4],\n",
    "                   'B': ['a', np.nan, 'c', 'd']})\n",
    "\n",
    "# Insérer une valeur spécifique si une cellule est manquante\n",
    "df_filled = df.fillna(0)  # Insérer la valeur 0 pour les NaN\n",
    "\n",
    "# Afficher le dataframe après insertion des valeurs\n",
    "print(df_filled)"
   ]
  },
  {
   "cell_type": "code",
   "execution_count": 14,
   "metadata": {},
   "outputs": [
    {
     "name": "stdout",
     "output_type": "stream",
     "text": [
      "Covariance : 5.0\n"
     ]
    }
   ],
   "source": [
    "import pandas as pd\n",
    "\n",
    "# Créer un dataframe de démonstration\n",
    "df = pd.DataFrame({'feature': [1, 2, 3, 4, 5],\n",
    "                   'target': [2, 4, 6, 8, 10]})\n",
    "\n",
    "# Calculer la covariance entre le feature et le target\n",
    "covariance = df['feature'].cov(df['target'])\n",
    "\n",
    "# Afficher le résultat\n",
    "print(\"Covariance :\", covariance)\n"
   ]
  },
  {
   "cell_type": "code",
   "execution_count": null,
   "metadata": {},
   "outputs": [],
   "source": []
  }
 ],
 "metadata": {
  "kernelspec": {
   "display_name": "Python 3 (ipykernel)",
   "language": "python",
   "name": "python3"
  },
  "language_info": {
   "codemirror_mode": {
    "name": "ipython",
    "version": 3
   },
   "file_extension": ".py",
   "mimetype": "text/x-python",
   "name": "python",
   "nbconvert_exporter": "python",
   "pygments_lexer": "ipython3",
   "version": "3.9.12"
  }
 },
 "nbformat": 4,
 "nbformat_minor": 4
}
